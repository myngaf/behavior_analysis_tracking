{
 "cells": [
  {
   "cell_type": "code",
   "execution_count": 1,
   "id": "3335ab39",
   "metadata": {},
   "outputs": [],
   "source": [
    "from ethomap import DynamicTimeWarping\n",
    "import numpy as np"
   ]
  },
  {
   "cell_type": "code",
   "execution_count": 3,
   "id": "8848f348",
   "metadata": {},
   "outputs": [
    {
     "name": "stdout",
     "output_type": "stream",
     "text": [
      "DTW distance between x and y: 109.34883211924036\n"
     ]
    }
   ],
   "source": [
    "# Create some 3D time series\n",
    "x = np.random.rand(200, 3)\n",
    "y = np.random.rand(200, 3)\n",
    "\n",
    "# Align time series y to x\n",
    "dtw = DynamicTimeWarping(x)\n",
    "dist = dtw.align(y)\n",
    "print(\"DTW distance between x and y:\", dist)"
   ]
  },
  {
   "cell_type": "code",
   "execution_count": 4,
   "id": "3ff531e2",
   "metadata": {},
   "outputs": [],
   "source": [
    "from ethomap import pdist_dtw, affinity_propagation, IsomapPrecomputed\n",
    "import numpy as np\n",
    "import time\n",
    "from scipy.spatial.distance import squareform"
   ]
  },
  {
   "cell_type": "code",
   "execution_count": 6,
   "id": "c9861809",
   "metadata": {},
   "outputs": [
    {
     "data": {
      "text/plain": [
       "array([[[0.18662518, 0.10489391, 0.52162114],\n",
       "        [0.67142212, 0.25820038, 0.85673517],\n",
       "        [0.03119912, 0.08938447, 0.62547084],\n",
       "        ...,\n",
       "        [0.0993939 , 0.80890089, 0.95989614],\n",
       "        [0.32842231, 0.57552049, 0.37370693],\n",
       "        [0.08086257, 0.22550851, 0.31769072]],\n",
       "\n",
       "       [[0.79610176, 0.51613982, 0.10898017],\n",
       "        [0.19276936, 0.29641703, 0.30571956],\n",
       "        [0.37110069, 0.3766464 , 0.54726069],\n",
       "        ...,\n",
       "        [0.07684084, 0.60030969, 0.93683701],\n",
       "        [0.70704435, 0.35411822, 0.35981255],\n",
       "        [0.61860726, 0.34006693, 0.57221085]],\n",
       "\n",
       "       [[0.62078509, 0.00560585, 0.61421453],\n",
       "        [0.2741044 , 0.85594989, 0.98283239],\n",
       "        [0.49624098, 0.20458488, 0.64859466],\n",
       "        ...,\n",
       "        [0.46748135, 0.64244565, 0.74545272],\n",
       "        [0.5926747 , 0.57830149, 0.01689694],\n",
       "        [0.74959983, 0.11598172, 0.31388013]],\n",
       "\n",
       "       ...,\n",
       "\n",
       "       [[0.4224076 , 0.30467123, 0.8050036 ],\n",
       "        [0.27802096, 0.20095142, 0.98606455],\n",
       "        [0.5461115 , 0.65861207, 0.8067475 ],\n",
       "        ...,\n",
       "        [0.72008406, 0.91046209, 0.29927562],\n",
       "        [0.70170689, 0.65949455, 0.55556316],\n",
       "        [0.36004581, 0.87812527, 0.51325734]],\n",
       "\n",
       "       [[0.32245533, 0.24967499, 0.87156775],\n",
       "        [0.66167449, 0.55459295, 0.40469351],\n",
       "        [0.16892829, 0.3687552 , 0.41527595],\n",
       "        ...,\n",
       "        [0.45185381, 0.49997196, 0.30473963],\n",
       "        [0.61729046, 0.13360983, 0.25928728],\n",
       "        [0.08747885, 0.58125381, 0.02716688]],\n",
       "\n",
       "       [[0.50020397, 0.61275808, 0.94767593],\n",
       "        [0.99680598, 0.74349136, 0.93355425],\n",
       "        [0.9434551 , 0.17066429, 0.24111143],\n",
       "        ...,\n",
       "        [0.35488554, 0.72764886, 0.3896497 ],\n",
       "        [0.20168995, 0.98810422, 0.8540062 ],\n",
       "        [0.10205343, 0.35711634, 0.6447382 ]]])"
      ]
     },
     "execution_count": 6,
     "metadata": {},
     "output_type": "execute_result"
    }
   ],
   "source": [
    "# Create some 3D time series to align pairwise\n",
    "xs = np.random.rand(1000, 50, 3)\n",
    "xs"
   ]
  },
  {
   "cell_type": "code",
   "execution_count": 8,
   "id": "d81b438c",
   "metadata": {},
   "outputs": [
    {
     "name": "stdout",
     "output_type": "stream",
     "text": [
      "Time taken: 30.850045919418335 seconds\n",
      "(1000, 1000)\n"
     ]
    }
   ],
   "source": [
    "# Compute pairwise distances between time series (pdist_dtw from ethomap.distance)\n",
    "t0 = time.time()\n",
    "distances = pdist_dtw(xs, parallel_processing=True, n_processors=4, bw=0.1, fs=100)\n",
    "distance_matrix = squareform(distances)\n",
    "t1 = time.time()\n",
    "print(\"Time taken:\", t1 - t0, \"seconds\") # ~30 seconds for data of this size\n",
    "print(distance_matrix.shape) # (1000,1000)"
   ]
  },
  {
   "cell_type": "code",
   "execution_count": 9,
   "id": "a7eb4e16",
   "metadata": {},
   "outputs": [
    {
     "name": "stdout",
     "output_type": "stream",
     "text": [
      "(1000, 2)\n"
     ]
    }
   ],
   "source": [
    "# Create behavioural space from all data(IsomapPrecomputed from ethomap.embed)\n",
    "isomap = IsomapPrecomputed(n_neighbors=5, n_components=2)\n",
    "embedding = isomap.fit_transform(distance_matrix)\n",
    "print(embedding.shape) # (1000,2)"
   ]
  },
  {
   "cell_type": "code",
   "execution_count": 11,
   "id": "828b6870",
   "metadata": {},
   "outputs": [],
   "source": [
    "# Find exemplars by clustering distance matrix (affinity_propagation from ethomap.cluster)\n",
    "ap = affinity_propagation(distance_matrix, preference=\"median\")\n",
    "cluster_labels = ap.labels_\n",
    "exemplar_indices = ap.cluster_centers_indices_"
   ]
  },
  {
   "cell_type": "code",
   "execution_count": 12,
   "id": "fa4b91f4",
   "metadata": {},
   "outputs": [
    {
     "name": "stdout",
     "output_type": "stream",
     "text": [
      "(48, 50, 3)\n",
      "(48, 48)\n"
     ]
    }
   ],
   "source": [
    "# Select exemplars from original data\n",
    "exemplars = xs[exemplar_indices]\n",
    "exemplar_distances = distance_matrix[exemplar_indices, :][:, exemplar_indices]\n",
    "print(exemplars.shape) # (n_exemplars, 50, 3)\n",
    "print(exemplar_distances.shape) #(n_exemplars, n_exemplars)"
   ]
  },
  {
   "cell_type": "code",
   "execution_count": 13,
   "id": "86afbe32",
   "metadata": {},
   "outputs": [
    {
     "name": "stdout",
     "output_type": "stream",
     "text": [
      "(48, 2)\n"
     ]
    }
   ],
   "source": [
    "# Create behavioural space from exemplars only\n",
    "embedding_exemplars = isomap.fit_transform(exemplar_distances)\n",
    "print(embedding_exemplars.shape)"
   ]
  }
 ],
 "metadata": {
  "kernelspec": {
   "display_name": "default",
   "language": "python",
   "name": "python3"
  },
  "language_info": {
   "codemirror_mode": {
    "name": "ipython",
    "version": 3
   },
   "file_extension": ".py",
   "mimetype": "text/x-python",
   "name": "python",
   "nbconvert_exporter": "python",
   "pygments_lexer": "ipython3",
   "version": "3.9.23"
  }
 },
 "nbformat": 4,
 "nbformat_minor": 5
}
