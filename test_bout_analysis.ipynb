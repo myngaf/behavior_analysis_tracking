{
 "cells": [
  {
   "cell_type": "markdown",
   "id": "9d1c9c2c",
   "metadata": {},
   "source": [
    "Notebook description: <br>\n",
    "\n",
    "This notebook is created to analysis the kinematics data obtained after running the tracking code. <br>\n",
    "\n",
    "Most of the tracking and analysis codes are written by Duncan and pieced together in this notebook."
   ]
  },
  {
   "cell_type": "markdown",
   "id": "04d73db9",
   "metadata": {},
   "source": [
    "### Import experiment (tracked and with kinematics data)."
   ]
  },
  {
   "cell_type": "code",
   "execution_count": 2,
   "id": "c9f1fcd5",
   "metadata": {},
   "outputs": [
    {
     "name": "stdout",
     "output_type": "stream",
     "text": [
      "name: uv_trial\n",
      "date: 2025-06-25\n",
      "animal_data: fish_data.csv\n",
      "video_data: video_data.csv\n",
      "mask_data: mask_data.csv\n",
      "bout_detection: {'threshold': 0.02, 'winsize': 0.05}\n",
      "\n"
     ]
    }
   ],
   "source": [
    "from behavior_analysis.experiment import  BehaviorExperiment\n",
    "import pandas as pd\n",
    "# Open experiment\n",
    "experiment = BehaviorExperiment.open(r\"C:\\Users\\manyung.ng\\Documents\\behaviour_analysis\\behavior_analysis_tracking\\uv_trial\")\n",
    "print(experiment)\n",
    "# Open video and bout info\n",
    "video_info = pd.read_csv(experiment.directory.joinpath('video_data.csv'), dtype={'ID': str, 'code': str})\n",
    "bouts_df = pd.read_csv(experiment.subdirs[\"analysis\"].joinpath('bouts.csv'),\n",
    "                        dtype={'ID': str, 'code': str})"
   ]
  },
  {
   "cell_type": "markdown",
   "id": "ce9b2b5e",
   "metadata": {},
   "source": [
    "### Data information\n",
    "\n",
    "- Fish ID in the format 'YYYYMMDDNN' (year, month, day, zero-padded fish number; e.g. fish_1 on 2025_05_29 would be 20250529) <br>\n",
    "\n",
    "- Video code in the format 'IDHHMMSS' (fish_ID, hour, minute, second) <br>\n",
    "\n",
    "- Number of rows == number of frames in the video\n",
    "\n",
    "#### Description of data in the \"kinematics/code + .csv\"\n",
    "| Column name | Column data description |\n",
    "| --- | --- |\n",
    "| 'k0' - 'k(n-1)' | angle of tangents between n successive tail points |\n",
    "| 'tip' | the average curvature (tail angle) over the last 20% of the tail|\n",
    "| 'length' | the length of the tail (useful for finding tracking errors) |\n",
    "| 'left' | the angle of the left eye relative to the heading |\n",
    "| 'right' | the angle of the right eye relative to the heading |\n",
    "| 'speed' | the instantaneous speed in each frame |\n",
    "| 'angular_velocity' | the instantaneous angular velocity in each frame |\n",
    "| 'tracked' | whether kinematic data exists from the frame |"
   ]
  },
  {
   "cell_type": "markdown",
   "id": "9f16144c",
   "metadata": {},
   "source": [
    "## Bout mapping"
   ]
  },
  {
   "cell_type": "code",
   "execution_count": 6,
   "id": "7f950bbf",
   "metadata": {},
   "outputs": [],
   "source": [
    "from behavior_analysis.experiment import BehaviorExperiment\n",
    "from behavior_analysis.analysis.bouts import BoutData\n",
    "from behavior_analysis.analysis.bout_mapping import calculate_distance_matrix_templates, interpolate_nd\n",
    "from behavior_analysis.utilities.timer import Timer\n",
    "import pandas as pd\n",
    "import numpy as np\n",
    "from pathlib import Path\n",
    "import os"
   ]
  },
  {
   "cell_type": "code",
   "execution_count": 7,
   "id": "32098cbe",
   "metadata": {},
   "outputs": [
    {
     "name": "stdout",
     "output_type": "stream",
     "text": [
      "Opening 681 csv files...\n"
     ]
    },
    {
     "ename": "ParserError",
     "evalue": "Error tokenizing data. C error: Calling read(nbytes) on source failed. Try engine='python'.",
     "output_type": "error",
     "traceback": [
      "\u001b[1;31m---------------------------------------------------------------------------\u001b[0m",
      "\u001b[1;31mParserError\u001b[0m                               Traceback (most recent call last)",
      "\u001b[1;32m~\\AppData\\Local\\Temp\\ipykernel_14700\\3791551608.py\u001b[0m in \u001b[0;36m<module>\u001b[1;34m\u001b[0m\n\u001b[0;32m     11\u001b[0m     \u001b[0mmean\u001b[0m\u001b[1;33m,\u001b[0m \u001b[0mstd\u001b[0m \u001b[1;33m=\u001b[0m \u001b[0mnp\u001b[0m\u001b[1;33m.\u001b[0m\u001b[0mload\u001b[0m\u001b[1;33m(\u001b[0m\u001b[0mtemplate_directory\u001b[0m\u001b[1;33m.\u001b[0m\u001b[0mjoinpath\u001b[0m\u001b[1;33m(\u001b[0m\u001b[1;34m'tail_statistics.npy'\u001b[0m\u001b[1;33m)\u001b[0m\u001b[1;33m)\u001b[0m\u001b[1;33m\u001b[0m\u001b[1;33m\u001b[0m\u001b[0m\n\u001b[0;32m     12\u001b[0m     \u001b[1;31m# Import template bouts\u001b[0m\u001b[1;33m\u001b[0m\u001b[1;33m\u001b[0m\u001b[1;33m\u001b[0m\u001b[0m\n\u001b[1;32m---> 13\u001b[1;33m     \u001b[0mtemplates\u001b[0m \u001b[1;33m=\u001b[0m \u001b[0mBoutData\u001b[0m\u001b[1;33m.\u001b[0m\u001b[0mfrom_metadata\u001b[0m\u001b[1;33m(\u001b[0m\u001b[0mexemplars_df\u001b[0m\u001b[1;33m,\u001b[0m \u001b[0mtemplate_directory\u001b[0m\u001b[1;33m.\u001b[0m\u001b[0mjoinpath\u001b[0m\u001b[1;33m(\u001b[0m\u001b[1;34m\"kinematics\"\u001b[0m\u001b[1;33m)\u001b[0m\u001b[1;33m)\u001b[0m\u001b[1;33m\u001b[0m\u001b[1;33m\u001b[0m\u001b[0m\n\u001b[0m\u001b[0;32m     14\u001b[0m     \u001b[1;31m# Map template bouts onto eigenfish\u001b[0m\u001b[1;33m\u001b[0m\u001b[1;33m\u001b[0m\u001b[1;33m\u001b[0m\u001b[0m\n\u001b[0;32m     15\u001b[0m     \u001b[0mtemplates\u001b[0m \u001b[1;33m=\u001b[0m \u001b[0mtemplates\u001b[0m\u001b[1;33m.\u001b[0m\u001b[0mmap\u001b[0m\u001b[1;33m(\u001b[0m\u001b[0mvectors\u001b[0m\u001b[1;33m=\u001b[0m\u001b[0meigenfish\u001b[0m\u001b[1;33m,\u001b[0m \u001b[0mwhiten\u001b[0m\u001b[1;33m=\u001b[0m\u001b[1;32mTrue\u001b[0m\u001b[1;33m,\u001b[0m \u001b[0mmean\u001b[0m\u001b[1;33m=\u001b[0m\u001b[0mmean\u001b[0m\u001b[1;33m,\u001b[0m \u001b[0mstd\u001b[0m\u001b[1;33m=\u001b[0m\u001b[0mstd\u001b[0m\u001b[1;33m)\u001b[0m\u001b[1;33m\u001b[0m\u001b[1;33m\u001b[0m\u001b[0m\n",
      "\u001b[1;32mc:\\Users\\manyung.ng\\Documents\\behaviour_analysis\\behavior_analysis_tracking\\behavior_analysis\\analysis\\bouts.py\u001b[0m in \u001b[0;36mfrom_metadata\u001b[1;34m(cls, metadata, directory, tail_only)\u001b[0m\n\u001b[0;32m     54\u001b[0m                 \u001b[0mpaths\u001b[0m\u001b[1;33m.\u001b[0m\u001b[0mappend\u001b[0m\u001b[1;33m(\u001b[0m\u001b[0mdirectory\u001b[0m\u001b[1;33m.\u001b[0m\u001b[0mjoinpath\u001b[0m\u001b[1;33m(\u001b[0m\u001b[0mID\u001b[0m\u001b[1;33m,\u001b[0m \u001b[0mcode\u001b[0m \u001b[1;33m+\u001b[0m \u001b[1;34m'.csv'\u001b[0m\u001b[1;33m)\u001b[0m\u001b[1;33m)\u001b[0m\u001b[1;33m\u001b[0m\u001b[1;33m\u001b[0m\u001b[0m\n\u001b[0;32m     55\u001b[0m         \u001b[1;31m# Import bouts\u001b[0m\u001b[1;33m\u001b[0m\u001b[1;33m\u001b[0m\u001b[1;33m\u001b[0m\u001b[0m\n\u001b[1;32m---> 56\u001b[1;33m         \u001b[0mdata\u001b[0m \u001b[1;33m=\u001b[0m \u001b[0mimport_csvs\u001b[0m\u001b[1;33m(\u001b[0m\u001b[1;33m*\u001b[0m\u001b[0mpaths\u001b[0m\u001b[1;33m)\u001b[0m\u001b[1;33m\u001b[0m\u001b[1;33m\u001b[0m\u001b[0m\n\u001b[0m\u001b[0;32m     57\u001b[0m         \u001b[1;31m# Keep desired columns\u001b[0m\u001b[1;33m\u001b[0m\u001b[1;33m\u001b[0m\u001b[1;33m\u001b[0m\u001b[0m\n\u001b[0;32m     58\u001b[0m         \u001b[0mprint\u001b[0m\u001b[1;33m(\u001b[0m\u001b[1;34m'Reformatting multi-indexed DataFrame...'\u001b[0m\u001b[1;33m,\u001b[0m \u001b[0mend\u001b[0m\u001b[1;33m=\u001b[0m\u001b[1;34m' '\u001b[0m\u001b[1;33m)\u001b[0m\u001b[1;33m\u001b[0m\u001b[1;33m\u001b[0m\u001b[0m\n",
      "\u001b[1;32mc:\\Users\\manyung.ng\\Documents\\behaviour_analysis\\behavior_analysis_tracking\\behavior_analysis\\analysis\\csv.py\u001b[0m in \u001b[0;36mimport_csvs\u001b[1;34m(index_levels, level_names, *args)\u001b[0m\n\u001b[0;32m     49\u001b[0m     \u001b[1;32mfor\u001b[0m \u001b[0mi\u001b[0m\u001b[1;33m,\u001b[0m \u001b[0mf\u001b[0m \u001b[1;32min\u001b[0m \u001b[0menumerate\u001b[0m\u001b[1;33m(\u001b[0m\u001b[0mfiles\u001b[0m\u001b[1;33m)\u001b[0m\u001b[1;33m:\u001b[0m\u001b[1;33m\u001b[0m\u001b[1;33m\u001b[0m\u001b[0m\n\u001b[0;32m     50\u001b[0m         \u001b[0mparts\u001b[0m \u001b[1;33m=\u001b[0m \u001b[1;33m[\u001b[0m\u001b[0mf\u001b[0m\u001b[1;33m.\u001b[0m\u001b[0mstem\u001b[0m\u001b[1;33m]\u001b[0m \u001b[1;33m+\u001b[0m \u001b[0mlist\u001b[0m\u001b[1;33m(\u001b[0m\u001b[0mreversed\u001b[0m\u001b[1;33m(\u001b[0m\u001b[0mf\u001b[0m\u001b[1;33m.\u001b[0m\u001b[0mparent\u001b[0m\u001b[1;33m.\u001b[0m\u001b[0mparts\u001b[0m\u001b[1;33m)\u001b[0m\u001b[1;33m)\u001b[0m  \u001b[1;31m# obtain parts of the path\u001b[0m\u001b[1;33m\u001b[0m\u001b[1;33m\u001b[0m\u001b[0m\n\u001b[1;32m---> 51\u001b[1;33m         \u001b[0mdf\u001b[0m \u001b[1;33m=\u001b[0m \u001b[0mpd\u001b[0m\u001b[1;33m.\u001b[0m\u001b[0mread_csv\u001b[0m\u001b[1;33m(\u001b[0m\u001b[0mf\u001b[0m\u001b[1;33m)\u001b[0m  \u001b[1;31m# open the DataFrame\u001b[0m\u001b[1;33m\u001b[0m\u001b[1;33m\u001b[0m\u001b[0m\n\u001b[0m\u001b[0;32m     52\u001b[0m         \u001b[0mdfs\u001b[0m\u001b[1;33m.\u001b[0m\u001b[0mappend\u001b[0m\u001b[1;33m(\u001b[0m\u001b[0mdf\u001b[0m\u001b[1;33m)\u001b[0m  \u001b[1;31m# append DataFrame to list of DataFrames\u001b[0m\u001b[1;33m\u001b[0m\u001b[1;33m\u001b[0m\u001b[0m\n\u001b[0;32m     53\u001b[0m         \u001b[0mindexer\u001b[0m\u001b[1;33m.\u001b[0m\u001b[0mappend\u001b[0m\u001b[1;33m(\u001b[0m\u001b[0mtuple\u001b[0m\u001b[1;33m(\u001b[0m\u001b[1;33m[\u001b[0m\u001b[0mparts\u001b[0m\u001b[1;33m[\u001b[0m\u001b[0mi\u001b[0m\u001b[1;33m]\u001b[0m \u001b[1;32mfor\u001b[0m \u001b[0mi\u001b[0m \u001b[1;32min\u001b[0m \u001b[0mindex_levels\u001b[0m\u001b[1;33m]\u001b[0m\u001b[1;33m)\u001b[0m\u001b[1;33m)\u001b[0m  \u001b[1;31m# add parts of the file path specified by the index\u001b[0m\u001b[1;33m\u001b[0m\u001b[1;33m\u001b[0m\u001b[0m\n",
      "\u001b[1;32mc:\\Users\\manyung.ng\\AppData\\Local\\anaconda3\\envs\\behavior_analysis\\lib\\site-packages\\pandas\\io\\parsers.py\u001b[0m in \u001b[0;36mparser_f\u001b[1;34m(filepath_or_buffer, sep, delimiter, header, names, index_col, usecols, squeeze, prefix, mangle_dupe_cols, dtype, engine, converters, true_values, false_values, skipinitialspace, skiprows, skipfooter, nrows, na_values, keep_default_na, na_filter, verbose, skip_blank_lines, parse_dates, infer_datetime_format, keep_date_col, date_parser, dayfirst, cache_dates, iterator, chunksize, compression, thousands, decimal, lineterminator, quotechar, quoting, doublequote, escapechar, comment, encoding, dialect, error_bad_lines, warn_bad_lines, delim_whitespace, low_memory, memory_map, float_precision)\u001b[0m\n\u001b[0;32m    674\u001b[0m         )\n\u001b[0;32m    675\u001b[0m \u001b[1;33m\u001b[0m\u001b[0m\n\u001b[1;32m--> 676\u001b[1;33m         \u001b[1;32mreturn\u001b[0m \u001b[0m_read\u001b[0m\u001b[1;33m(\u001b[0m\u001b[0mfilepath_or_buffer\u001b[0m\u001b[1;33m,\u001b[0m \u001b[0mkwds\u001b[0m\u001b[1;33m)\u001b[0m\u001b[1;33m\u001b[0m\u001b[1;33m\u001b[0m\u001b[0m\n\u001b[0m\u001b[0;32m    677\u001b[0m \u001b[1;33m\u001b[0m\u001b[0m\n\u001b[0;32m    678\u001b[0m     \u001b[0mparser_f\u001b[0m\u001b[1;33m.\u001b[0m\u001b[0m__name__\u001b[0m \u001b[1;33m=\u001b[0m \u001b[0mname\u001b[0m\u001b[1;33m\u001b[0m\u001b[1;33m\u001b[0m\u001b[0m\n",
      "\u001b[1;32mc:\\Users\\manyung.ng\\AppData\\Local\\anaconda3\\envs\\behavior_analysis\\lib\\site-packages\\pandas\\io\\parsers.py\u001b[0m in \u001b[0;36m_read\u001b[1;34m(filepath_or_buffer, kwds)\u001b[0m\n\u001b[0;32m    452\u001b[0m \u001b[1;33m\u001b[0m\u001b[0m\n\u001b[0;32m    453\u001b[0m     \u001b[1;32mtry\u001b[0m\u001b[1;33m:\u001b[0m\u001b[1;33m\u001b[0m\u001b[1;33m\u001b[0m\u001b[0m\n\u001b[1;32m--> 454\u001b[1;33m         \u001b[0mdata\u001b[0m \u001b[1;33m=\u001b[0m \u001b[0mparser\u001b[0m\u001b[1;33m.\u001b[0m\u001b[0mread\u001b[0m\u001b[1;33m(\u001b[0m\u001b[0mnrows\u001b[0m\u001b[1;33m)\u001b[0m\u001b[1;33m\u001b[0m\u001b[1;33m\u001b[0m\u001b[0m\n\u001b[0m\u001b[0;32m    455\u001b[0m     \u001b[1;32mfinally\u001b[0m\u001b[1;33m:\u001b[0m\u001b[1;33m\u001b[0m\u001b[1;33m\u001b[0m\u001b[0m\n\u001b[0;32m    456\u001b[0m         \u001b[0mparser\u001b[0m\u001b[1;33m.\u001b[0m\u001b[0mclose\u001b[0m\u001b[1;33m(\u001b[0m\u001b[1;33m)\u001b[0m\u001b[1;33m\u001b[0m\u001b[1;33m\u001b[0m\u001b[0m\n",
      "\u001b[1;32mc:\\Users\\manyung.ng\\AppData\\Local\\anaconda3\\envs\\behavior_analysis\\lib\\site-packages\\pandas\\io\\parsers.py\u001b[0m in \u001b[0;36mread\u001b[1;34m(self, nrows)\u001b[0m\n\u001b[0;32m   1131\u001b[0m     \u001b[1;32mdef\u001b[0m \u001b[0mread\u001b[0m\u001b[1;33m(\u001b[0m\u001b[0mself\u001b[0m\u001b[1;33m,\u001b[0m \u001b[0mnrows\u001b[0m\u001b[1;33m=\u001b[0m\u001b[1;32mNone\u001b[0m\u001b[1;33m)\u001b[0m\u001b[1;33m:\u001b[0m\u001b[1;33m\u001b[0m\u001b[1;33m\u001b[0m\u001b[0m\n\u001b[0;32m   1132\u001b[0m         \u001b[0mnrows\u001b[0m \u001b[1;33m=\u001b[0m \u001b[0m_validate_integer\u001b[0m\u001b[1;33m(\u001b[0m\u001b[1;34m\"nrows\"\u001b[0m\u001b[1;33m,\u001b[0m \u001b[0mnrows\u001b[0m\u001b[1;33m)\u001b[0m\u001b[1;33m\u001b[0m\u001b[1;33m\u001b[0m\u001b[0m\n\u001b[1;32m-> 1133\u001b[1;33m         \u001b[0mret\u001b[0m \u001b[1;33m=\u001b[0m \u001b[0mself\u001b[0m\u001b[1;33m.\u001b[0m\u001b[0m_engine\u001b[0m\u001b[1;33m.\u001b[0m\u001b[0mread\u001b[0m\u001b[1;33m(\u001b[0m\u001b[0mnrows\u001b[0m\u001b[1;33m)\u001b[0m\u001b[1;33m\u001b[0m\u001b[1;33m\u001b[0m\u001b[0m\n\u001b[0m\u001b[0;32m   1134\u001b[0m \u001b[1;33m\u001b[0m\u001b[0m\n\u001b[0;32m   1135\u001b[0m         \u001b[1;31m# May alter columns / col_dict\u001b[0m\u001b[1;33m\u001b[0m\u001b[1;33m\u001b[0m\u001b[1;33m\u001b[0m\u001b[0m\n",
      "\u001b[1;32mc:\\Users\\manyung.ng\\AppData\\Local\\anaconda3\\envs\\behavior_analysis\\lib\\site-packages\\pandas\\io\\parsers.py\u001b[0m in \u001b[0;36mread\u001b[1;34m(self, nrows)\u001b[0m\n\u001b[0;32m   2035\u001b[0m     \u001b[1;32mdef\u001b[0m \u001b[0mread\u001b[0m\u001b[1;33m(\u001b[0m\u001b[0mself\u001b[0m\u001b[1;33m,\u001b[0m \u001b[0mnrows\u001b[0m\u001b[1;33m=\u001b[0m\u001b[1;32mNone\u001b[0m\u001b[1;33m)\u001b[0m\u001b[1;33m:\u001b[0m\u001b[1;33m\u001b[0m\u001b[1;33m\u001b[0m\u001b[0m\n\u001b[0;32m   2036\u001b[0m         \u001b[1;32mtry\u001b[0m\u001b[1;33m:\u001b[0m\u001b[1;33m\u001b[0m\u001b[1;33m\u001b[0m\u001b[0m\n\u001b[1;32m-> 2037\u001b[1;33m             \u001b[0mdata\u001b[0m \u001b[1;33m=\u001b[0m \u001b[0mself\u001b[0m\u001b[1;33m.\u001b[0m\u001b[0m_reader\u001b[0m\u001b[1;33m.\u001b[0m\u001b[0mread\u001b[0m\u001b[1;33m(\u001b[0m\u001b[0mnrows\u001b[0m\u001b[1;33m)\u001b[0m\u001b[1;33m\u001b[0m\u001b[1;33m\u001b[0m\u001b[0m\n\u001b[0m\u001b[0;32m   2038\u001b[0m         \u001b[1;32mexcept\u001b[0m \u001b[0mStopIteration\u001b[0m\u001b[1;33m:\u001b[0m\u001b[1;33m\u001b[0m\u001b[1;33m\u001b[0m\u001b[0m\n\u001b[0;32m   2039\u001b[0m             \u001b[1;32mif\u001b[0m \u001b[0mself\u001b[0m\u001b[1;33m.\u001b[0m\u001b[0m_first_chunk\u001b[0m\u001b[1;33m:\u001b[0m\u001b[1;33m\u001b[0m\u001b[1;33m\u001b[0m\u001b[0m\n",
      "\u001b[1;32mpandas\\_libs\\parsers.pyx\u001b[0m in \u001b[0;36mpandas._libs.parsers.TextReader.read\u001b[1;34m()\u001b[0m\n",
      "\u001b[1;32mpandas\\_libs\\parsers.pyx\u001b[0m in \u001b[0;36mpandas._libs.parsers.TextReader._read_low_memory\u001b[1;34m()\u001b[0m\n",
      "\u001b[1;32mpandas\\_libs\\parsers.pyx\u001b[0m in \u001b[0;36mpandas._libs.parsers.TextReader._read_rows\u001b[1;34m()\u001b[0m\n",
      "\u001b[1;32mpandas\\_libs\\parsers.pyx\u001b[0m in \u001b[0;36mpandas._libs.parsers.TextReader._tokenize_rows\u001b[1;34m()\u001b[0m\n",
      "\u001b[1;32mpandas\\_libs\\parsers.pyx\u001b[0m in \u001b[0;36mpandas._libs.parsers.raise_parser_error\u001b[1;34m()\u001b[0m\n",
      "\u001b[1;31mParserError\u001b[0m: Error tokenizing data. C error: Calling read(nbytes) on source failed. Try engine='python'."
     ]
    }
   ],
   "source": [
    "if __name__ == \"__main__\":\n",
    "    # Open template bouts\n",
    "    template_directory = Path(r'J:\\Duncan Mearns\\behavior_mapping')\n",
    "    template_frame_rate = 500.\n",
    "    # Open 1744 exemplar bouts representative of all behaviors\n",
    "    exemplars_df = pd.read_csv(template_directory.joinpath('exemplars.csv'),\n",
    "                               dtype={'ID': str, 'code': str})\n",
    "    # Open tail statistics and eigenfish for bout mapping\n",
    "    eigenfish = np.load(template_directory.joinpath('eigenfish.npy'))\n",
    "    eigenfish = eigenfish[:3]  # take first three eigenfish only\n",
    "    mean, std = np.load(template_directory.joinpath('tail_statistics.npy'))\n",
    "    # Import template bouts\n",
    "    templates = BoutData.from_metadata(exemplars_df, template_directory.joinpath(\"kinematics\"))\n",
    "    # Map template bouts onto eigenfish\n",
    "    templates = templates.map(vectors=eigenfish, whiten=True, mean=mean, std=std)\n",
    "    templates = templates.to_list(values=True)\n",
    "    print(len(templates))\n",
    "    print(templates[0].shape)"
   ]
  },
  {
   "cell_type": "code",
   "execution_count": null,
   "id": "53d7e9d3",
   "metadata": {},
   "outputs": [],
   "source": [
    "if __name__ == \"__main__\":\n",
    "    # Import bouts\n",
    "    bouts = BoutData.from_metadata(bouts_df, experiment.subdirs[\"kinematics\"], tail_only=True)\n",
    "    # Map bouts onto eigenfish\n",
    "    bouts = bouts.map(vectors=eigenfish, whiten=True, mean=mean, std=std)\n",
    "    # Start timer\n",
    "    timer = Timer()\n",
    "    analysis_times = []\n",
    "    timer.start()\n",
    "    # distance matrix\n",
    "    distances = {}\n",
    "    # Iterate through fish\n",
    "    output_directory = experiment.subdirs[\"analysis\"].joinpath('bout_distances')\n",
    "    if not output_directory.exists():\n",
    "        output_directory.mkdir(parents=True)\n",
    "    for ID in bouts.metadata['ID'].unique():\n",
    "        # Save distance matrix for each fish to bout_distances folder in analysis directory\n",
    "        output_path = output_directory.joinpath(ID + '.npy')\n",
    "        path_exist = create_filepath(output_directory, ID, '.npy', True)\n",
    "        # load distance matrix if the calculation is already performed.\n",
    "        if path_exist:\n",
    "            distances[ID] = np.load(output_path)\n",
    "            print('distance matrices loaded.')\n",
    "        if not output_path.exists():\n",
    "            print(ID + '...', end=' ')\n",
    "            # Interpolate bouts to correct frame rate\n",
    "            fish_bouts = []\n",
    "            for i, bout in bouts.iter(IDs=[ID], values=True):\n",
    "                code = bouts.metadata.loc[i, 'code']\n",
    "                fps = video_info[video_info['code'] == code].squeeze().fps\n",
    "                interp = interpolate_nd(bout, fps, template_frame_rate)\n",
    "                fish_bouts.append(interp)\n",
    "            # Calculate distance matrix\n",
    "            D = calculate_distance_matrix_templates(fish_bouts, templates, fs=template_frame_rate)\n",
    "            # Save distance matrix\n",
    "            np.save(output_path, D)\n",
    "            # Show time taken\n",
    "            time_taken = timer.lap()\n",
    "            analysis_times.append(time_taken)\n",
    "            print(timer.convert_time(time_taken))\n",
    "    average_time = timer.average\n",
    "    print(f'Total time: {timer.convert_time(timer.stop())}')\n",
    "    print(f'Average time: {timer.convert_time(average_time)}')"
   ]
  },
  {
   "cell_type": "code",
   "execution_count": null,
   "id": "d2c86e13",
   "metadata": {},
   "outputs": [
    {
     "data": {
      "text/plain": [
       "{'ID': {'2025052901': array([[   594.63690566,    602.25356471,    592.46181876, ...,\n",
       "             622.65944313,    437.79849277,    416.03782588],\n",
       "         [   899.31453783,    911.62084822,    946.48550441, ...,\n",
       "             926.96621981,    746.399745  ,    718.7528547 ],\n",
       "         [   877.12596895,    786.52540852,    869.60960981, ...,\n",
       "             841.48512722,    651.2428436 ,    677.20462238],\n",
       "         ...,\n",
       "         [   859.6941537 ,    889.63900355,    951.82616798, ...,\n",
       "             908.24237765,    681.09783619,    660.91312106],\n",
       "         [261835.55494616, 261837.08654446, 261911.17051351, ...,\n",
       "          261886.3906826 , 261622.23129113, 261594.0507287 ],\n",
       "         [ 20545.22734257,  20328.20362278,  20596.30522344, ...,\n",
       "           20525.22468824,  20554.60284008,  20526.29131712]]),\n",
       "  '2025052903': array([[  985.38848268,   915.64789378,  1050.81924416, ...,\n",
       "           1007.45145019,   779.15366496,   791.16495203],\n",
       "         [  538.84618221,   548.75748748,   610.09204832, ...,\n",
       "            569.58803522,   353.84032249,   341.95445535],\n",
       "         [  509.5983957 ,   495.02237114,   563.39397336, ...,\n",
       "            541.19055376,   331.8929454 ,   301.0222888 ],\n",
       "         ...,\n",
       "         [31424.19964379, 31306.39359807, 31306.61345919, ...,\n",
       "          31213.89292298, 31472.99529104, 31514.36319787],\n",
       "         [ 5912.32356523,  5813.32528975,  5810.26535908, ...,\n",
       "           5728.32331949,  5977.51601849,  6011.36527891],\n",
       "         [ 8540.02931485,  8545.7720817 ,  8449.10721791, ...,\n",
       "           8413.08482076,  8620.08482825,  8645.32482197]]),\n",
       "  '2025052904': array([[  481.26098135,   482.09944962,   576.33582906, ...,\n",
       "            498.03087584,   346.68811257,   281.91012916],\n",
       "         [  410.35849423,   454.14804938,   539.03788086, ...,\n",
       "            497.02388726,   279.53510411,   235.24031813],\n",
       "         [  431.73500451,   521.13887555,   552.21236046, ...,\n",
       "            495.85930896,   306.34566327,   250.63492233],\n",
       "         ...,\n",
       "         [18121.63929855, 18120.18619338, 17934.87341693, ...,\n",
       "          17889.22940159, 18191.75678821, 18297.81706671],\n",
       "         [ 3903.79139982,  3847.30228972,  3973.65403065, ...,\n",
       "           3932.90325143,  3713.70112225,  3709.62651818],\n",
       "         [ 1686.2722919 ,  1605.84307602,  1768.4078749 , ...,\n",
       "           1746.80149528,  1425.30318521,  1434.10659138]]),\n",
       "  '2025052905': array([[5091.90194485, 4895.80485929, 5026.87638281, ..., 4921.79632066,\n",
       "          5124.16637991, 5152.96962738],\n",
       "         [6468.89202162, 6272.63237991, 6399.97343656, ..., 6282.44187927,\n",
       "          6506.77838092, 6535.85156399],\n",
       "         [3871.26767347, 3675.03169967, 3799.80215772, ..., 3693.78476239,\n",
       "          3908.56331569, 3935.87030582],\n",
       "         ...,\n",
       "         [1246.64937754, 1375.57266976, 1390.80268881, ..., 1304.63467621,\n",
       "          1104.76475618, 1063.24566968],\n",
       "         [ 663.92070578,  702.73272288,  723.39734827, ...,  699.10047919,\n",
       "           515.96184234,  469.41364271],\n",
       "         [ 490.84216047,  528.27820536,  612.48147659, ...,  563.55110193,\n",
       "           372.87927487,  330.36193344]]),\n",
       "  '2025052906': array([[ 702.6175542 ,  757.44667689,  834.25917596, ...,  768.21954529,\n",
       "           567.9654136 ,  516.59223739],\n",
       "         [1002.1247861 , 1148.31596503, 1278.99155872, ..., 1249.90426222,\n",
       "           988.15018353,  936.90280546],\n",
       "         [ 620.6604806 ,  645.03745375,  681.24851158, ...,  639.43536252,\n",
       "           461.27556052,  422.32756867],\n",
       "         ...,\n",
       "         [1659.33355754, 1584.87424117, 1731.47459869, ..., 1692.90717606,\n",
       "          1465.17323169, 1447.98720413],\n",
       "         [ 977.78471565,  896.03585091,  998.57435833, ...,  974.25560563,\n",
       "           778.90009817,  784.14790841],\n",
       "         [ 716.94138822,  693.65228156,  768.45014588, ...,  758.54052871,\n",
       "           562.56511175,  511.21556757]])}}"
      ]
     },
     "execution_count": 65,
     "metadata": {},
     "output_type": "execute_result"
    }
   ],
   "source": [
    "distances_df = {\"ID\": distances}\n",
    "distances_df = pd.DataFrame.from_dict(distances_df)\n",
    "distances_df"
   ]
  },
  {
   "cell_type": "code",
   "execution_count": null,
   "id": "4950f9cd",
   "metadata": {},
   "outputs": [],
   "source": []
  },
  {
   "cell_type": "code",
   "execution_count": null,
   "id": "246e1a0f",
   "metadata": {},
   "outputs": [
    {
     "ename": "ValueError",
     "evalue": "Unable to coerce to Series, length must be 3: given 50",
     "output_type": "error",
     "traceback": [
      "\u001b[1;31m---------------------------------------------------------------------------\u001b[0m",
      "\u001b[1;31mValueError\u001b[0m                                Traceback (most recent call last)",
      "\u001b[1;32m~\\AppData\\Local\\Temp\\ipykernel_27592\\3017851231.py\u001b[0m in \u001b[0;36m<module>\u001b[1;34m\u001b[0m\n\u001b[0;32m      1\u001b[0m \u001b[1;31m# Assign exemplars\u001b[0m\u001b[1;33m\u001b[0m\u001b[1;33m\u001b[0m\u001b[1;33m\u001b[0m\u001b[0m\n\u001b[1;32m----> 2\u001b[1;33m \u001b[0mmapped_bouts\u001b[0m \u001b[1;33m=\u001b[0m \u001b[0mbouts\u001b[0m\u001b[1;33m.\u001b[0m\u001b[0mmap\u001b[0m\u001b[1;33m(\u001b[0m\u001b[0meigenfish\u001b[0m\u001b[1;33m,\u001b[0m \u001b[0mwhiten\u001b[0m\u001b[1;33m=\u001b[0m\u001b[1;32mTrue\u001b[0m\u001b[1;33m,\u001b[0m \u001b[0mmean\u001b[0m\u001b[1;33m=\u001b[0m\u001b[0mmean\u001b[0m\u001b[1;33m,\u001b[0m \u001b[0mstd\u001b[0m\u001b[1;33m=\u001b[0m\u001b[0mstd\u001b[0m\u001b[1;33m)\u001b[0m\u001b[1;33m\u001b[0m\u001b[1;33m\u001b[0m\u001b[0m\n\u001b[0m\u001b[0;32m      3\u001b[0m \u001b[0mmapped_bouts\u001b[0m\u001b[1;33m[\u001b[0m\u001b[1;34m'exemplar'\u001b[0m\u001b[1;33m]\u001b[0m \u001b[1;33m=\u001b[0m \u001b[1;32mNone\u001b[0m\u001b[1;33m\u001b[0m\u001b[1;33m\u001b[0m\u001b[0m\n\u001b[0;32m      4\u001b[0m \u001b[1;32mfor\u001b[0m \u001b[0mID\u001b[0m\u001b[1;33m,\u001b[0m \u001b[0mfish_distances\u001b[0m \u001b[1;32min\u001b[0m \u001b[0mdistances\u001b[0m\u001b[1;33m.\u001b[0m\u001b[0miteritems\u001b[0m\u001b[1;33m(\u001b[0m\u001b[1;33m)\u001b[0m\u001b[1;33m:\u001b[0m\u001b[1;33m\u001b[0m\u001b[1;33m\u001b[0m\u001b[0m\n\u001b[0;32m      5\u001b[0m     \u001b[0mbout_idxs\u001b[0m \u001b[1;33m=\u001b[0m \u001b[0mmapped_bouts\u001b[0m\u001b[1;33m[\u001b[0m\u001b[0mmapped_bouts\u001b[0m\u001b[1;33m[\u001b[0m\u001b[1;34m'ID'\u001b[0m\u001b[1;33m]\u001b[0m \u001b[1;33m==\u001b[0m \u001b[0mID\u001b[0m\u001b[1;33m]\u001b[0m\u001b[1;33m.\u001b[0m\u001b[0mindex\u001b[0m\u001b[1;33m\u001b[0m\u001b[1;33m\u001b[0m\u001b[0m\n",
      "\u001b[1;32mc:\\Users\\manyung.ng\\Documents\\behaviour_analysis\\behavior_analysis_tracking\\behavior_analysis\\analysis\\bouts.py\u001b[0m in \u001b[0;36mmap\u001b[1;34m(self, vectors, **kwargs)\u001b[0m\n\u001b[0;32m    159\u001b[0m \u001b[1;33m\u001b[0m\u001b[0m\n\u001b[0;32m    160\u001b[0m     \u001b[1;32mdef\u001b[0m \u001b[0mmap\u001b[0m\u001b[1;33m(\u001b[0m\u001b[0mself\u001b[0m\u001b[1;33m,\u001b[0m \u001b[0mvectors\u001b[0m\u001b[1;33m,\u001b[0m \u001b[1;33m**\u001b[0m\u001b[0mkwargs\u001b[0m\u001b[1;33m)\u001b[0m\u001b[1;33m:\u001b[0m\u001b[1;33m\u001b[0m\u001b[1;33m\u001b[0m\u001b[0m\n\u001b[1;32m--> 161\u001b[1;33m         \u001b[0mmapped\u001b[0m \u001b[1;33m=\u001b[0m \u001b[0msuper\u001b[0m\u001b[1;33m(\u001b[0m\u001b[1;33m)\u001b[0m\u001b[1;33m.\u001b[0m\u001b[0mmap\u001b[0m\u001b[1;33m(\u001b[0m\u001b[0mvectors\u001b[0m\u001b[1;33m,\u001b[0m \u001b[1;33m**\u001b[0m\u001b[0mkwargs\u001b[0m\u001b[1;33m)\u001b[0m\u001b[1;33m.\u001b[0m\u001b[0mdata\u001b[0m\u001b[1;33m\u001b[0m\u001b[1;33m\u001b[0m\u001b[0m\n\u001b[0m\u001b[0;32m    162\u001b[0m         \u001b[0mmapped\u001b[0m \u001b[1;33m=\u001b[0m \u001b[0mpd\u001b[0m\u001b[1;33m.\u001b[0m\u001b[0mDataFrame\u001b[0m\u001b[1;33m(\u001b[0m\u001b[0mmapped\u001b[0m\u001b[1;33m,\u001b[0m \u001b[0mindex\u001b[0m\u001b[1;33m=\u001b[0m\u001b[0mself\u001b[0m\u001b[1;33m.\u001b[0m\u001b[0mdata\u001b[0m\u001b[1;33m.\u001b[0m\u001b[0mindex\u001b[0m\u001b[1;33m,\u001b[0m \u001b[0mcolumns\u001b[0m\u001b[1;33m=\u001b[0m\u001b[1;33m[\u001b[0m\u001b[1;34mf'c{i}'\u001b[0m \u001b[1;32mfor\u001b[0m \u001b[0mi\u001b[0m \u001b[1;32min\u001b[0m \u001b[0mrange\u001b[0m\u001b[1;33m(\u001b[0m\u001b[0mmapped\u001b[0m\u001b[1;33m.\u001b[0m\u001b[0mshape\u001b[0m\u001b[1;33m[\u001b[0m\u001b[1;36m1\u001b[0m\u001b[1;33m]\u001b[0m\u001b[1;33m)\u001b[0m\u001b[1;33m]\u001b[0m\u001b[1;33m)\u001b[0m\u001b[1;33m\u001b[0m\u001b[1;33m\u001b[0m\u001b[0m\n\u001b[0;32m    163\u001b[0m         \u001b[1;32mreturn\u001b[0m \u001b[0mBoutData\u001b[0m\u001b[1;33m(\u001b[0m\u001b[0mmapped\u001b[0m\u001b[1;33m,\u001b[0m \u001b[0mmetadata\u001b[0m\u001b[1;33m=\u001b[0m\u001b[0mself\u001b[0m\u001b[1;33m.\u001b[0m\u001b[0mmetadata\u001b[0m\u001b[1;33m)\u001b[0m\u001b[1;33m\u001b[0m\u001b[1;33m\u001b[0m\u001b[0m\n",
      "\u001b[1;32mc:\\Users\\manyung.ng\\Documents\\behaviour_analysis\\behavior_analysis_tracking\\behavior_analysis\\analysis\\pca.py\u001b[0m in \u001b[0;36mmap\u001b[1;34m(self, vectors, whiten, **kwargs)\u001b[0m\n\u001b[0;32m     38\u001b[0m     \u001b[1;32mdef\u001b[0m \u001b[0mmap\u001b[0m\u001b[1;33m(\u001b[0m\u001b[0mself\u001b[0m\u001b[1;33m,\u001b[0m \u001b[0mvectors\u001b[0m\u001b[1;33m,\u001b[0m \u001b[0mwhiten\u001b[0m\u001b[1;33m=\u001b[0m\u001b[1;32mTrue\u001b[0m\u001b[1;33m,\u001b[0m \u001b[1;33m**\u001b[0m\u001b[0mkwargs\u001b[0m\u001b[1;33m)\u001b[0m\u001b[1;33m:\u001b[0m\u001b[1;33m\u001b[0m\u001b[1;33m\u001b[0m\u001b[0m\n\u001b[0;32m     39\u001b[0m         \u001b[1;32mif\u001b[0m \u001b[0mwhiten\u001b[0m\u001b[1;33m:\u001b[0m\u001b[1;33m\u001b[0m\u001b[1;33m\u001b[0m\u001b[0m\n\u001b[1;32m---> 40\u001b[1;33m             \u001b[0mdata_to_map\u001b[0m \u001b[1;33m=\u001b[0m \u001b[0mself\u001b[0m\u001b[1;33m.\u001b[0m\u001b[0mwhiten\u001b[0m\u001b[1;33m(\u001b[0m\u001b[1;33m**\u001b[0m\u001b[0mkwargs\u001b[0m\u001b[1;33m)\u001b[0m\u001b[1;33m.\u001b[0m\u001b[0mdata\u001b[0m\u001b[1;33m\u001b[0m\u001b[1;33m\u001b[0m\u001b[0m\n\u001b[0m\u001b[0;32m     41\u001b[0m         \u001b[1;32melse\u001b[0m\u001b[1;33m:\u001b[0m\u001b[1;33m\u001b[0m\u001b[1;33m\u001b[0m\u001b[0m\n\u001b[0;32m     42\u001b[0m             \u001b[0mdata_to_map\u001b[0m \u001b[1;33m=\u001b[0m \u001b[0mself\u001b[0m\u001b[1;33m.\u001b[0m\u001b[0mdata\u001b[0m\u001b[1;33m\u001b[0m\u001b[1;33m\u001b[0m\u001b[0m\n",
      "\u001b[1;32mc:\\Users\\manyung.ng\\Documents\\behaviour_analysis\\behavior_analysis_tracking\\behavior_analysis\\analysis\\bouts.py\u001b[0m in \u001b[0;36mwhiten\u001b[1;34m(self, **kwargs)\u001b[0m\n\u001b[0;32m    150\u001b[0m \u001b[1;33m\u001b[0m\u001b[0m\n\u001b[0;32m    151\u001b[0m     \u001b[1;32mdef\u001b[0m \u001b[0mwhiten\u001b[0m\u001b[1;33m(\u001b[0m\u001b[0mself\u001b[0m\u001b[1;33m,\u001b[0m \u001b[1;33m**\u001b[0m\u001b[0mkwargs\u001b[0m\u001b[1;33m)\u001b[0m\u001b[1;33m:\u001b[0m\u001b[1;33m\u001b[0m\u001b[1;33m\u001b[0m\u001b[0m\n\u001b[1;32m--> 152\u001b[1;33m         \u001b[0mwhitened\u001b[0m \u001b[1;33m=\u001b[0m \u001b[0msuper\u001b[0m\u001b[1;33m(\u001b[0m\u001b[1;33m)\u001b[0m\u001b[1;33m.\u001b[0m\u001b[0mwhiten\u001b[0m\u001b[1;33m(\u001b[0m\u001b[1;33m**\u001b[0m\u001b[0mkwargs\u001b[0m\u001b[1;33m)\u001b[0m\u001b[1;33m.\u001b[0m\u001b[0mdata\u001b[0m\u001b[1;33m\u001b[0m\u001b[1;33m\u001b[0m\u001b[0m\n\u001b[0m\u001b[0;32m    153\u001b[0m         \u001b[1;32mreturn\u001b[0m \u001b[0mBoutData\u001b[0m\u001b[1;33m(\u001b[0m\u001b[0mwhitened\u001b[0m\u001b[1;33m,\u001b[0m \u001b[0mmetadata\u001b[0m\u001b[1;33m=\u001b[0m\u001b[0mself\u001b[0m\u001b[1;33m.\u001b[0m\u001b[0mmetadata\u001b[0m\u001b[1;33m)\u001b[0m\u001b[1;33m\u001b[0m\u001b[1;33m\u001b[0m\u001b[0m\n\u001b[0;32m    154\u001b[0m \u001b[1;33m\u001b[0m\u001b[0m\n",
      "\u001b[1;32mc:\\Users\\manyung.ng\\Documents\\behaviour_analysis\\behavior_analysis_tracking\\behavior_analysis\\analysis\\pca.py\u001b[0m in \u001b[0;36mwhiten\u001b[1;34m(self, mean, std)\u001b[0m\n\u001b[0;32m     22\u001b[0m             \u001b[0mwhitened\u001b[0m \u001b[1;33m=\u001b[0m \u001b[1;33m(\u001b[0m\u001b[0mself\u001b[0m\u001b[1;33m.\u001b[0m\u001b[0mdata\u001b[0m \u001b[1;33m-\u001b[0m \u001b[0mself\u001b[0m\u001b[1;33m.\u001b[0m\u001b[0mmean\u001b[0m\u001b[1;33m)\u001b[0m \u001b[1;33m/\u001b[0m \u001b[0mself\u001b[0m\u001b[1;33m.\u001b[0m\u001b[0mstd\u001b[0m\u001b[1;33m\u001b[0m\u001b[1;33m\u001b[0m\u001b[0m\n\u001b[0;32m     23\u001b[0m         \u001b[1;32melif\u001b[0m \u001b[1;33m(\u001b[0m\u001b[0mmean\u001b[0m \u001b[1;32mis\u001b[0m \u001b[1;32mnot\u001b[0m \u001b[1;32mNone\u001b[0m\u001b[1;33m)\u001b[0m \u001b[1;32mand\u001b[0m \u001b[1;33m(\u001b[0m\u001b[0mstd\u001b[0m \u001b[1;32mis\u001b[0m \u001b[1;32mnot\u001b[0m \u001b[1;32mNone\u001b[0m\u001b[1;33m)\u001b[0m\u001b[1;33m:\u001b[0m\u001b[1;33m\u001b[0m\u001b[1;33m\u001b[0m\u001b[0m\n\u001b[1;32m---> 24\u001b[1;33m             \u001b[0mwhitened\u001b[0m \u001b[1;33m=\u001b[0m \u001b[1;33m(\u001b[0m\u001b[0mself\u001b[0m\u001b[1;33m.\u001b[0m\u001b[0mdata\u001b[0m \u001b[1;33m-\u001b[0m \u001b[0mmean\u001b[0m\u001b[1;33m)\u001b[0m \u001b[1;33m/\u001b[0m \u001b[0mstd\u001b[0m\u001b[1;33m\u001b[0m\u001b[1;33m\u001b[0m\u001b[0m\n\u001b[0m\u001b[0;32m     25\u001b[0m         \u001b[1;32melse\u001b[0m\u001b[1;33m:\u001b[0m\u001b[1;33m\u001b[0m\u001b[1;33m\u001b[0m\u001b[0m\n\u001b[0;32m     26\u001b[0m             \u001b[1;32mraise\u001b[0m \u001b[0mValueError\u001b[0m\u001b[1;33m(\u001b[0m\u001b[1;34m'both mean and std must be specified!'\u001b[0m\u001b[1;33m)\u001b[0m\u001b[1;33m\u001b[0m\u001b[1;33m\u001b[0m\u001b[0m\n",
      "\u001b[1;32mc:\\Users\\manyung.ng\\AppData\\Local\\anaconda3\\envs\\behavior_analysis\\lib\\site-packages\\pandas\\core\\ops\\__init__.py\u001b[0m in \u001b[0;36mf\u001b[1;34m(self, other, axis, level, fill_value)\u001b[0m\n\u001b[0;32m    751\u001b[0m             \u001b[1;32mreturn\u001b[0m \u001b[0m_frame_arith_method_with_reindex\u001b[0m\u001b[1;33m(\u001b[0m\u001b[0mself\u001b[0m\u001b[1;33m,\u001b[0m \u001b[0mother\u001b[0m\u001b[1;33m,\u001b[0m \u001b[0mop\u001b[0m\u001b[1;33m)\u001b[0m\u001b[1;33m\u001b[0m\u001b[1;33m\u001b[0m\u001b[0m\n\u001b[0;32m    752\u001b[0m \u001b[1;33m\u001b[0m\u001b[0m\n\u001b[1;32m--> 753\u001b[1;33m         \u001b[0mother\u001b[0m \u001b[1;33m=\u001b[0m \u001b[0m_align_method_FRAME\u001b[0m\u001b[1;33m(\u001b[0m\u001b[0mself\u001b[0m\u001b[1;33m,\u001b[0m \u001b[0mother\u001b[0m\u001b[1;33m,\u001b[0m \u001b[0maxis\u001b[0m\u001b[1;33m)\u001b[0m\u001b[1;33m\u001b[0m\u001b[1;33m\u001b[0m\u001b[0m\n\u001b[0m\u001b[0;32m    754\u001b[0m \u001b[1;33m\u001b[0m\u001b[0m\n\u001b[0;32m    755\u001b[0m         \u001b[1;32mif\u001b[0m \u001b[0misinstance\u001b[0m\u001b[1;33m(\u001b[0m\u001b[0mother\u001b[0m\u001b[1;33m,\u001b[0m \u001b[0mABCDataFrame\u001b[0m\u001b[1;33m)\u001b[0m\u001b[1;33m:\u001b[0m\u001b[1;33m\u001b[0m\u001b[1;33m\u001b[0m\u001b[0m\n",
      "\u001b[1;32mc:\\Users\\manyung.ng\\AppData\\Local\\anaconda3\\envs\\behavior_analysis\\lib\\site-packages\\pandas\\core\\ops\\__init__.py\u001b[0m in \u001b[0;36m_align_method_FRAME\u001b[1;34m(left, right, axis)\u001b[0m\n\u001b[0;32m    645\u001b[0m \u001b[1;33m\u001b[0m\u001b[0m\n\u001b[0;32m    646\u001b[0m         \u001b[1;32mif\u001b[0m \u001b[0mright\u001b[0m\u001b[1;33m.\u001b[0m\u001b[0mndim\u001b[0m \u001b[1;33m==\u001b[0m \u001b[1;36m1\u001b[0m\u001b[1;33m:\u001b[0m\u001b[1;33m\u001b[0m\u001b[1;33m\u001b[0m\u001b[0m\n\u001b[1;32m--> 647\u001b[1;33m             \u001b[0mright\u001b[0m \u001b[1;33m=\u001b[0m \u001b[0mto_series\u001b[0m\u001b[1;33m(\u001b[0m\u001b[0mright\u001b[0m\u001b[1;33m)\u001b[0m\u001b[1;33m\u001b[0m\u001b[1;33m\u001b[0m\u001b[0m\n\u001b[0m\u001b[0;32m    648\u001b[0m \u001b[1;33m\u001b[0m\u001b[0m\n\u001b[0;32m    649\u001b[0m         \u001b[1;32melif\u001b[0m \u001b[0mright\u001b[0m\u001b[1;33m.\u001b[0m\u001b[0mndim\u001b[0m \u001b[1;33m==\u001b[0m \u001b[1;36m2\u001b[0m\u001b[1;33m:\u001b[0m\u001b[1;33m\u001b[0m\u001b[1;33m\u001b[0m\u001b[0m\n",
      "\u001b[1;32mc:\\Users\\manyung.ng\\AppData\\Local\\anaconda3\\envs\\behavior_analysis\\lib\\site-packages\\pandas\\core\\ops\\__init__.py\u001b[0m in \u001b[0;36mto_series\u001b[1;34m(right)\u001b[0m\n\u001b[0;32m    637\u001b[0m             \u001b[1;32mif\u001b[0m \u001b[0mlen\u001b[0m\u001b[1;33m(\u001b[0m\u001b[0mleft\u001b[0m\u001b[1;33m.\u001b[0m\u001b[0mcolumns\u001b[0m\u001b[1;33m)\u001b[0m \u001b[1;33m!=\u001b[0m \u001b[0mlen\u001b[0m\u001b[1;33m(\u001b[0m\u001b[0mright\u001b[0m\u001b[1;33m)\u001b[0m\u001b[1;33m:\u001b[0m\u001b[1;33m\u001b[0m\u001b[1;33m\u001b[0m\u001b[0m\n\u001b[0;32m    638\u001b[0m                 raise ValueError(\n\u001b[1;32m--> 639\u001b[1;33m                     \u001b[0mmsg\u001b[0m\u001b[1;33m.\u001b[0m\u001b[0mformat\u001b[0m\u001b[1;33m(\u001b[0m\u001b[0mreq_len\u001b[0m\u001b[1;33m=\u001b[0m\u001b[0mlen\u001b[0m\u001b[1;33m(\u001b[0m\u001b[0mleft\u001b[0m\u001b[1;33m.\u001b[0m\u001b[0mcolumns\u001b[0m\u001b[1;33m)\u001b[0m\u001b[1;33m,\u001b[0m \u001b[0mgiven_len\u001b[0m\u001b[1;33m=\u001b[0m\u001b[0mlen\u001b[0m\u001b[1;33m(\u001b[0m\u001b[0mright\u001b[0m\u001b[1;33m)\u001b[0m\u001b[1;33m)\u001b[0m\u001b[1;33m\u001b[0m\u001b[1;33m\u001b[0m\u001b[0m\n\u001b[0m\u001b[0;32m    640\u001b[0m                 )\n\u001b[0;32m    641\u001b[0m             \u001b[0mright\u001b[0m \u001b[1;33m=\u001b[0m \u001b[0mleft\u001b[0m\u001b[1;33m.\u001b[0m\u001b[0m_constructor_sliced\u001b[0m\u001b[1;33m(\u001b[0m\u001b[0mright\u001b[0m\u001b[1;33m,\u001b[0m \u001b[0mindex\u001b[0m\u001b[1;33m=\u001b[0m\u001b[0mleft\u001b[0m\u001b[1;33m.\u001b[0m\u001b[0mcolumns\u001b[0m\u001b[1;33m)\u001b[0m\u001b[1;33m\u001b[0m\u001b[1;33m\u001b[0m\u001b[0m\n",
      "\u001b[1;31mValueError\u001b[0m: Unable to coerce to Series, length must be 3: given 50"
     ]
    }
   ],
   "source": [
    "# this chunk keeps crashing vscode.\n",
    "# let's run line by line to see where the crash occur.\n",
    "# Assign exemplars\n",
    "mapped_bouts = bouts #.map(eigenfish, whiten=True, mean=mean, std=std)\n",
    "mapped_bouts['exemplar'] = None\n",
    "for ID, fish_distances in distances.iteritems():\n",
    "    bout_idxs = mapped_bouts[mapped_bouts['ID'] == ID].index\n",
    "    nearest_exemplar = np.argmin(fish_distances, axis=1)\n",
    "    mapped_bouts.loc[bout_idxs, 'exemplar'] = nearest_exemplar\n",
    "mapped_bouts.to_csv(os.path.join(experiment.subdirs['analysis'], 'mapped_bouts.csv'))"
   ]
  },
  {
   "cell_type": "markdown",
   "id": "bc520f95",
   "metadata": {},
   "source": [
    "## Bout classification"
   ]
  },
  {
   "cell_type": "code",
   "execution_count": null,
   "id": "dc9be3da",
   "metadata": {},
   "outputs": [],
   "source": [
    "from behavior_analysis.experiment import BehaviorExperiment\n",
    "from behavior_analysis.analysis.bouts import BoutData\n",
    "from behavior_analysis.analysis.eye_convergence import calculate_convergence\n",
    "import pandas as pd\n",
    "from matplotlib import pyplot as plt\n",
    "from scipy.spatial.distance import squareform\n",
    "from pathlib import Path\n",
    "import numpy as np\n",
    "from behavior_analysis.analysis.bout_mapping import calculate_distance_matrix_templates, interpolate_nd\n",
    "from matplotlib import pyplot as plt"
   ]
  },
  {
   "cell_type": "code",
   "execution_count": null,
   "id": "b64a819d",
   "metadata": {},
   "outputs": [],
   "source": [
    "if __name__ == \"__main__\":\n",
    "\n",
    "    experiment = BehaviorExperiment.open(r\"C:\\Users\\manyung.ng\\Documents\\behaviour_analysis\\behavior_analysis_tracking\\test_analysis\")\n",
    "    print(experiment)\n",
    "    bouts_path = experiment.subdirs['analysis'].joinpath('bouts.csv')\n",
    "    bouts_df = pd.read_csv(bouts_path, dtype={'ID': str, 'video_code': str})\n",
    "    video_info = pd.read_csv(experiment.directory.joinpath('video_data.csv'), dtype={'ID': str, 'video_code': str})\n",
    "\n",
    "    # Average eye convergence over 20 ms\n",
    "    window = 0.02\n",
    "\n",
    "    # Import convergence data\n",
    "    fish_convergence = pd.read_csv('', dtype={'ID': str})\n",
    "    convergence_states = []\n",
    "    # Import bout data\n",
    "    bouts = BoutData.from_metadata(bouts_df, experiment.subdirs['kinematics'], tail_only=False)\n",
    "    for i, bout in bouts.iter():\n",
    "        # Bout info\n",
    "        bout_info = bouts.metadata.loc[i]\n",
    "        fps = video_info[video_info[\"code\"] == bout_info.code].squeeze().fps\n",
    "        ID = bout_info.ID\n",
    "        fish_info = fish_convergence[fish_convergence[\"ID\"] == ID].squeeze()\n",
    "        # Calculate convergence\n",
    "        bout_convergence = np.degrees(calculate_convergence(bout))\n",
    "        w = int(window * fps)\n",
    "        convergence_start = bout_convergence[:w].mean()\n",
    "        convergence_end = bout_convergence[-w:].mean()\n",
    "        convergence_states.append(np.array([convergence_start, convergence_end]) >= fish_info.threshold)\n",
    "    convergence_states = np.array(convergence_states)\n",
    "    # Find bout phases\n",
    "    spontaneous = (~convergence_states[:, 0]) & (~convergence_states[:, 1])\n",
    "    early = (~convergence_states[:, 0]) & (convergence_states[:, 1])\n",
    "    mid = (convergence_states[:, 0]) & (convergence_states[:, 1])\n",
    "    late = (convergence_states[:, 0]) & (~convergence_states[:, 1])\n",
    "    phase_labels = np.column_stack([spontaneous, early, mid, late])\n",
    "    phase_labels = np.argwhere(phase_labels)[:, 1]\n",
    "    bouts_df['phase'] = phase_labels\n",
    "    bouts_df.to_csv(experiment.subdirs[\"analysis\"].joinpath(\"bout_convergence_labels.csv\"), index=False)\n"
   ]
  },
  {
   "cell_type": "markdown",
   "id": "009a6530",
   "metadata": {},
   "source": [
    "## Behaviour analysis (Mearns et al., 2020)"
   ]
  },
  {
   "cell_type": "code",
   "execution_count": null,
   "id": "71abf5fb",
   "metadata": {},
   "outputs": [],
   "source": [
    "from pathlib import Path\n",
    "import numpy as np\n",
    "import pandas as pd\n",
    "from scipy.spatial import distance as ssd\n",
    "from matplotlib import pyplot as plt"
   ]
  },
  {
   "cell_type": "code",
   "execution_count": null,
   "id": "84ee2203",
   "metadata": {},
   "outputs": [],
   "source": [
    "plt.rcParams[\"figure.dpi\"] = 150"
   ]
  },
  {
   "cell_type": "code",
   "execution_count": null,
   "id": "47dd17b5",
   "metadata": {},
   "outputs": [],
   "source": [
    "# set data path\n",
    "data_path = Path(r\"C:\\Users\\manyung.ng\\Documents\\behaviour_analysis\\behavior_analysis_tracking\\test_analysis\")"
   ]
  },
  {
   "cell_type": "code",
   "execution_count": null,
   "id": "eb5a1922",
   "metadata": {},
   "outputs": [],
   "source": [
    "# import metadata\n",
    "md = pd.read_csv(data_path.joinpath(\"mapped_bouts.csv\"), index_col=\"bout_index\", dtype={\"ID\": str, \"video_code\": str})"
   ]
  },
  {
   "cell_type": "code",
   "execution_count": null,
   "id": "7edb54b8",
   "metadata": {},
   "outputs": [],
   "source": [
    "md"
   ]
  },
  {
   "cell_type": "code",
   "execution_count": null,
   "id": "93f4dbb4",
   "metadata": {},
   "outputs": [],
   "source": [
    "bout_md = md.loc[0]\n",
    "bout_md"
   ]
  },
  {
   "cell_type": "code",
   "execution_count": null,
   "id": "3cb6e8d8",
   "metadata": {},
   "outputs": [],
   "source": [
    "trial_path = data_path.joinpath(\"kinematics\", bout_md[\"ID\"], bout_md[\"video_code\"] + \".csv\")\n",
    "trial_kinematics = pd.read_csv(trial_path)"
   ]
  }
 ],
 "metadata": {
  "kernelspec": {
   "display_name": "behavior_analysis",
   "language": "python",
   "name": "python3"
  },
  "language_info": {
   "codemirror_mode": {
    "name": "ipython",
    "version": 3
   },
   "file_extension": ".py",
   "mimetype": "text/x-python",
   "name": "python",
   "nbconvert_exporter": "python",
   "pygments_lexer": "ipython3",
   "version": "3.7.6"
  }
 },
 "nbformat": 4,
 "nbformat_minor": 5
}
