{
 "cells": [
  {
   "cell_type": "markdown",
   "id": "9d1c9c2c",
   "metadata": {},
   "source": [
    "Notebook description: <br>\n",
    "\n",
    "This notebook is created to analysis the kinematics data obtained after running the tracking code. <br>\n",
    "\n",
    "Most of the tracking and analysis codes are written by Duncan and pieced together in this notebook. <br>\n",
    "\n",
    "This one is specific to analysing eye convergence."
   ]
  },
  {
   "cell_type": "markdown",
   "id": "04d73db9",
   "metadata": {},
   "source": [
    "### Import experiment (tracked and with kinematics data)."
   ]
  },
  {
   "cell_type": "code",
   "execution_count": null,
   "id": "c9f1fcd5",
   "metadata": {},
   "outputs": [],
   "source": [
    "from behavior_analysis.experiment import BehaviorExperiment\n",
    "import pandas as pd\n",
    "# Open experiment\n",
    "experiment = BehaviorExperiment.open(r\"C:\\Users\\manyung.ng\\Documents\\behaviour_analysis\\behavior_analysis_tracking\\uv_trial\")\n",
    "print(experiment)\n",
    "# Open video and bout info\n",
    "video_info = pd.read_csv(experiment.directory.joinpath('video_data.csv'), dtype={'ID': str, 'code': str})\n",
    "bouts_df = pd.read_csv(experiment.subdirs[\"analysis\"].joinpath('bouts.csv'),\n",
    "                        dtype={'ID': str, 'code': str})"
   ]
  },
  {
   "cell_type": "markdown",
   "id": "ce9b2b5e",
   "metadata": {},
   "source": [
    "### Data information\n",
    "\n",
    "- Fish ID in the format 'YYYYMMDDNN' (year, month, day, zero-padded fish number; e.g. fish_1 on 2025_05_29 would be 20250529) <br>\n",
    "\n",
    "- Video code in the format 'IDHHMMSS' (fish_ID, hour, minute, second) <br>\n",
    "\n",
    "- Number of rows == number of frames in the video\n",
    "\n",
    "#### Description of data in the \"kinematics/code + .csv\"\n",
    "| Column name | Column data description |\n",
    "| --- | --- |\n",
    "| 'k0' - 'k(n-1)' | angle of tangents between n successive tail points |\n",
    "| 'tip' | the average curvature (tail angle) over the last 20% of the tail|\n",
    "| 'length' | the length of the tail (useful for finding tracking errors) |\n",
    "| 'left' | the angle of the left eye relative to the heading |\n",
    "| 'right' | the angle of the right eye relative to the heading |\n",
    "| 'speed' | the instantaneous speed in each frame |\n",
    "| 'angular_velocity' | the instantaneous angular velocity in each frame |\n",
    "| 'tracked' | whether kinematic data exists from the frame |"
   ]
  },
  {
   "cell_type": "markdown",
   "id": "5ca947da",
   "metadata": {},
   "source": [
    "## Eye convergence analysis"
   ]
  },
  {
   "cell_type": "markdown",
   "id": "15cde196",
   "metadata": {},
   "source": [
    "#### Before running Duncan's analysis codes, let's check out what the eye angle looks like by simply plotting them out!"
   ]
  },
  {
   "cell_type": "code",
   "execution_count": null,
   "id": "7adbea72",
   "metadata": {},
   "outputs": [],
   "source": [
    "# load kinematics data\n",
    "# example data info:\n",
    "# fish: progeny of mafaa:QF2, ath5:Cre, QUAS:switchNTR outX (fish_3)\n",
    "# condition: -NTR, +UV (no mafaa+ RGC ablation)\n",
    "# videos: 250fps (unstable fps for this test recording), 2.5min each, 12 recordings (30min) in total\n",
    "\n",
    "# 2nd video of the trial, no paramecia\n",
    "test_kinematics_df1 = pd.read_csv(experiment.subdirs['kinematics'].joinpath(\"2025060603/2025060603163529.777.csv\")).get([\"speed\", \"angular_velocity\",\"left_angle\",\"right_angle\"])\n",
    "# 7th video of the trial, with paramecia\n",
    "test_kinematics_df2 = pd.read_csv(experiment.subdirs['kinematics'].joinpath(\"2025060603/2025060603165036.654.csv\")).get([\"speed\", \"angular_velocity\",\"left_angle\",\"right_angle\"])\n",
    "# last video of the trial, with paramecia\n",
    "test_kinematics_df3 = pd.read_csv(experiment.subdirs['kinematics'].joinpath(\"2025060603/2025060603170312.514.csv\")).get([\"speed\", \"angular_velocity\",\"left_angle\",\"right_angle\"])\n",
    "print(test_kinematics_df1, test_kinematics_df2)\n",
    "test_kinematics_df3"
   ]
  },
  {
   "cell_type": "code",
   "execution_count": null,
   "id": "8eead734",
   "metadata": {},
   "outputs": [],
   "source": [
    "# try plotting with seaborn\n",
    "import seaborn as sns\n",
    "# set figure size\n",
    "sns.set_theme(rc={\"figure.figsize\": (20,5)})"
   ]
  },
  {
   "cell_type": "code",
   "execution_count": null,
   "id": "21879543",
   "metadata": {},
   "outputs": [],
   "source": [
    "# check out the speed of the fish\n",
    "sns.lineplot(data=test_kinematics_df1, x=test_kinematics_df1.index, y=\"speed\") # in blue\n",
    "sns.lineplot(data=test_kinematics_df2, x=test_kinematics_df2.index, y=\"speed\") # in orange\n",
    "sns.lineplot(data=test_kinematics_df3, x=test_kinematics_df3.index, y=\"speed\") # in green"
   ]
  },
  {
   "cell_type": "code",
   "execution_count": null,
   "id": "88174e20",
   "metadata": {},
   "outputs": [],
   "source": [
    "# check out the angular velocity of the fish\n",
    "sns.lineplot(data=test_kinematics_df1, x=test_kinematics_df1.index, y=\"angular_velocity\") # in blue\n",
    "sns.lineplot(data=test_kinematics_df2, x=test_kinematics_df2.index, y=\"angular_velocity\") # in orange\n",
    "sns.lineplot(data=test_kinematics_df3, x=test_kinematics_df3.index, y=\"angular_velocity\") # in green"
   ]
  },
  {
   "cell_type": "code",
   "execution_count": null,
   "id": "57120f40",
   "metadata": {},
   "outputs": [],
   "source": [
    "# melt the df for plotting left and right eye angles at the same scale\n",
    "test_kinematics_df1 = test_kinematics_df1.reset_index().rename(columns={'index': 'frame'}).melt( # reset_index and rename put the frame number (the original index) in a separate column\n",
    "    id_vars= ['speed','angular_velocity','frame'], # these columns will be kept the same\n",
    "    value_vars= ['left_angle','right_angle'], # these columns will be melted\n",
    "    var_name= \"direction\", # the column name 'left_angle' and 'right_angle' will now label the angle degree in a separate column\n",
    "    value_name= \"angle (degree)\" # the values of the 'left_angle' and 'right_angle' columns are now in one columns\n",
    ")\n",
    "test_kinematics_df1"
   ]
  },
  {
   "cell_type": "code",
   "execution_count": null,
   "id": "aec885a9",
   "metadata": {},
   "outputs": [],
   "source": [
    "# description same as above but for the second df\n",
    "test_kinematics_df2 = test_kinematics_df2.reset_index().rename(columns={'index': 'frame'}).melt(\n",
    "    id_vars= ['speed','angular_velocity','frame'],\n",
    "    value_vars= ['left_angle','right_angle'],\n",
    "    var_name= \"direction\",\n",
    "    value_name= \"angle (degree)\"\n",
    ")\n",
    "test_kinematics_df2"
   ]
  },
  {
   "cell_type": "code",
   "execution_count": null,
   "id": "2e748dc6",
   "metadata": {},
   "outputs": [],
   "source": [
    "# description same as above but for the third df\n",
    "test_kinematics_df3 = test_kinematics_df3.reset_index().rename(columns={'index': 'frame'}).melt( \n",
    "    id_vars= ['speed','angular_velocity','frame'],\n",
    "    value_vars= ['left_angle','right_angle'],\n",
    "    var_name= \"direction\",\n",
    "    value_name= \"angle (degree)\"\n",
    ")\n",
    "test_kinematics_df3"
   ]
  },
  {
   "cell_type": "code",
   "execution_count": null,
   "id": "d1e90980",
   "metadata": {},
   "outputs": [],
   "source": [
    "# at the beginning of trial, before introduction of paramecia\n",
    "sns.lineplot(data=test_kinematics_df1, x='frame', y=\"angle (degree)\", hue=\"direction\", legend=\"auto\")"
   ]
  },
  {
   "cell_type": "code",
   "execution_count": null,
   "id": "93116e65",
   "metadata": {},
   "outputs": [],
   "source": [
    "# in the middle of trial, after introduction of paramecia\n",
    "sns.lineplot(data=test_kinematics_df2, x='frame', y=\"angle (degree)\", hue=\"direction\", legend=\"auto\")"
   ]
  },
  {
   "cell_type": "code",
   "execution_count": null,
   "id": "104e0ddb",
   "metadata": {},
   "outputs": [],
   "source": [
    "# at the end of the trial, after introduction of paramecia\n",
    "sns.lineplot(data=test_kinematics_df3, x='frame', y=\"angle (degree)\", hue=\"direction\", legend=\"auto\")"
   ]
  },
  {
   "cell_type": "code",
   "execution_count": null,
   "id": "a10470a7",
   "metadata": {},
   "outputs": [],
   "source": [
    "# load kinematics data\n",
    "# example data info:\n",
    "# fish: progeny of mafaa:QF2, ath5:Cre, QUAS:switchNTR outX (fish_2)\n",
    "# condition: -NTR, -UV (no mafaa+ RGC ablation)\n",
    "# videos: 250fps (unstable fps for this test recording), 2.5min each, 12 recordings (30min) in total\n",
    "\n",
    "# 2nd video of the trial, no paramecia\n",
    "test_kinematics_df1 = pd.read_csv(experiment.subdirs['kinematics'].joinpath(\"2025060602/2025060602155607.538.csv\")).get([\"speed\", \"angular_velocity\",\"left_angle\",\"right_angle\"])\n",
    "# 6th video of the trial, with paramecia\n",
    "test_kinematics_df2 = pd.read_csv(experiment.subdirs['kinematics'].joinpath(\"2025060602/2025060602160612.354.csv\")).get([\"speed\", \"angular_velocity\",\"left_angle\",\"right_angle\"])\n",
    "# 2nd last video of the trial, with paramecia\n",
    "test_kinematics_df3 = pd.read_csv(experiment.subdirs['kinematics'].joinpath(\"2025060602/2025060602162119.139.csv\")).get([\"speed\", \"angular_velocity\",\"left_angle\",\"right_angle\"])\n",
    "print(test_kinematics_df1, test_kinematics_df2)\n",
    "test_kinematics_df3"
   ]
  },
  {
   "cell_type": "code",
   "execution_count": null,
   "id": "dbf4a75c",
   "metadata": {},
   "outputs": [],
   "source": [
    "# check out the speed of the fish\n",
    "sns.lineplot(data=test_kinematics_df1, x=test_kinematics_df1.index, y=\"speed\") # in blue\n",
    "sns.lineplot(data=test_kinematics_df2, x=test_kinematics_df2.index, y=\"speed\") # in orange\n",
    "sns.lineplot(data=test_kinematics_df3, x=test_kinematics_df3.index, y=\"speed\") # in green"
   ]
  },
  {
   "cell_type": "code",
   "execution_count": null,
   "id": "a6b453fe",
   "metadata": {},
   "outputs": [],
   "source": [
    "# check out the angular velocity of the fish\n",
    "sns.lineplot(data=test_kinematics_df1, x=test_kinematics_df1.index, y=\"angular_velocity\") # in blue\n",
    "sns.lineplot(data=test_kinematics_df2, x=test_kinematics_df2.index, y=\"angular_velocity\") # in orange\n",
    "sns.lineplot(data=test_kinematics_df3, x=test_kinematics_df3.index, y=\"angular_velocity\") # in green"
   ]
  },
  {
   "cell_type": "code",
   "execution_count": null,
   "id": "ae32a748",
   "metadata": {},
   "outputs": [],
   "source": [
    "# melt the df for plotting left and right eye angles at the same scale\n",
    "test_kinematics_df1 = test_kinematics_df1.reset_index().rename(columns={'index': 'frame'}).melt( # reset_index and rename put the frame number (the original index) in a separate column\n",
    "    id_vars= ['speed','angular_velocity','frame'],\n",
    "    value_vars= ['left_angle','right_angle'],\n",
    "    var_name= \"direction\",\n",
    "    value_name= \"angle (degree)\"\n",
    ")\n",
    "\n",
    "test_kinematics_df2 = test_kinematics_df2.reset_index().rename(columns={'index': 'frame'}).melt( # reset_index and rename put the frame number (the original index) in a separate column\n",
    "    id_vars= ['speed','angular_velocity','frame'],\n",
    "    value_vars= ['left_angle','right_angle'],\n",
    "    var_name= \"direction\",\n",
    "    value_name= \"angle (degree)\"\n",
    ")\n",
    "test_kinematics_df3 = test_kinematics_df3.reset_index().rename(columns={'index': 'frame'}).melt( # reset_index and rename put the frame number (the original index) in a separate column\n",
    "    id_vars= ['speed','angular_velocity','frame'],\n",
    "    value_vars= ['left_angle','right_angle'],\n",
    "    var_name= \"direction\",\n",
    "    value_name= \"angle (degree)\"\n",
    ")\n",
    "\n",
    "test_kinematics_df3 # check if it's melted"
   ]
  },
  {
   "cell_type": "code",
   "execution_count": null,
   "id": "d8ffe514",
   "metadata": {},
   "outputs": [],
   "source": [
    "# at the beginning of trial, before introduction of paramecia\n",
    "sns.lineplot(data=test_kinematics_df1, x='frame', y=\"angle (degree)\", hue=\"direction\", legend=\"auto\")"
   ]
  },
  {
   "cell_type": "code",
   "execution_count": null,
   "id": "45447b94",
   "metadata": {},
   "outputs": [],
   "source": [
    "# in the middle of trial, after introduction of paramecia\n",
    "sns.lineplot(data=test_kinematics_df2, x='frame', y=\"angle (degree)\", hue=\"direction\", legend=\"auto\")"
   ]
  },
  {
   "cell_type": "code",
   "execution_count": null,
   "id": "a0d69baa",
   "metadata": {},
   "outputs": [],
   "source": [
    "# at the end of the trial, after introduction of paramecia\n",
    "sns.lineplot(data=test_kinematics_df3, x='frame', y=\"angle (degree)\", hue=\"direction\", legend=\"auto\")"
   ]
  },
  {
   "cell_type": "markdown",
   "id": "1f7f8961",
   "metadata": {},
   "source": [
    "#### Eye convergence analysis (code scavanged and modified from Duncan's files) <br>\n",
    "\n",
    "Below spits out: <br>\n",
    "\n",
    "- Convergence threshold <br>\n",
    "\n",
    "- Convergence score (the proportion of frames above the threshold) <br>\n",
    "\n",
    "- Histogram of eye angles distribution (saved in analysis/eye_convergence/plots)"
   ]
  },
  {
   "cell_type": "code",
   "execution_count": 3,
   "id": "55da296c",
   "metadata": {},
   "outputs": [],
   "source": [
    "from behavior_analysis.experiment import BehaviorExperiment\n",
    "from behavior_analysis.analysis.bouts import BoutData\n",
    "from behavior_analysis.analysis import eye_tracking_data\n",
    "from behavior_analysis.utilities.manage_files_helpers import create_folder\n",
    "from pathlib import Path\n",
    "import os"
   ]
  },
  {
   "cell_type": "code",
   "execution_count": 4,
   "id": "10ae294a",
   "metadata": {},
   "outputs": [
    {
     "name": "stdout",
     "output_type": "stream",
     "text": [
      "name: uv_trial\n",
      "date: 2025-06-25\n",
      "animal_data: fish_data.csv\n",
      "video_data: video_data.csv\n",
      "mask_data: mask_data.csv\n",
      "bout_detection: {'threshold': 0.02, 'winsize': 0.05}\n",
      "\n"
     ]
    }
   ],
   "source": [
    "from behavior_analysis.experiment import  BehaviorExperiment\n",
    "import pandas as pd\n",
    "# Open experiment\n",
    "experiment = BehaviorExperiment.open(r\"C:\\Users\\manyung.ng\\Documents\\behaviour_analysis\\behavior_analysis_tracking\\uv_trial\")\n",
    "print(experiment)"
   ]
  },
  {
   "cell_type": "markdown",
   "id": "6be2e1fc",
   "metadata": {},
   "source": [
    "this chunk below now works"
   ]
  },
  {
   "cell_type": "code",
   "execution_count": 5,
   "id": "b91c670c",
   "metadata": {},
   "outputs": [
    {
     "name": "stdout",
     "output_type": "stream",
     "text": [
      "\n",
      "========================\n",
      "IMPORTING EYE ANGLE DATA\n",
      "======================== \n",
      "\n",
      "\n",
      "2025060601\n",
      "----------\n",
      "Importing data (12 files)\n",
      "1\n",
      "2\n",
      "3\n",
      "4\n",
      "5\n",
      "6\n",
      "7\n",
      "8\n",
      "9\n",
      "10\n",
      "11\n",
      "12\n",
      "\n",
      "done!\n",
      "\n",
      "\n",
      "2025060602\n",
      "----------\n",
      "Importing data (12 files)\n",
      "1\n",
      "2\n",
      "3\n",
      "4\n",
      "5\n",
      "6\n",
      "7\n",
      "8\n",
      "9\n",
      "10\n",
      "11\n",
      "12\n",
      "\n",
      "done!\n",
      "\n",
      "\n",
      "2025060603\n",
      "----------\n",
      "Importing data (12 files)\n",
      "1\n",
      "2\n",
      "3\n",
      "4\n",
      "5\n",
      "6\n",
      "7\n",
      "8\n",
      "9\n",
      "10\n",
      "11\n",
      "12\n",
      "\n",
      "done!\n",
      "\n"
     ]
    }
   ],
   "source": [
    "output_directory = create_folder(experiment.subdirs['analysis'], 'eye_convergence')\n",
    "convergence_scores_path = os.path.join(output_directory, 'convergence_scores.csv')\n",
    "\n",
    "# create eye angle data (left, right, converge, in degrees)\n",
    "eye_tracking = eye_tracking_data.EyeTrackingData.from_experiment(experiment)\n",
    "\n",
    "plots_directory = create_folder(output_directory, 'plots')"
   ]
  },
  {
   "cell_type": "code",
   "execution_count": 6,
   "id": "eb80a71c",
   "metadata": {},
   "outputs": [
    {
     "name": "stdout",
     "output_type": "stream",
     "text": [
      "\n",
      "==============================\n",
      "CALCULATING CONVERGENCE SCORES\n",
      "============================== \n",
      "\n",
      "\n",
      "2025060601\n",
      "----------\n",
      "Performing kernel density estimation...\n",
      "done!\n",
      "Eye convergence threshold: 51.0\n",
      "Eye convergence score: 0.11859517028350687\n",
      "\n",
      "\n",
      "2025060602\n",
      "----------\n",
      "Performing kernel density estimation...\n",
      "done!\n",
      "No local minimum within limits!\n",
      "Eye convergence threshold: 50.0\n",
      "Eye convergence score: 0.04044029992089754\n",
      "\n",
      "\n",
      "2025060603\n",
      "----------\n",
      "Performing kernel density estimation...\n",
      "done!\n",
      "Eye convergence threshold: 54.0\n",
      "Eye convergence score: 0.2703731200625942\n",
      "\n"
     ]
    }
   ],
   "source": [
    "convergence_scores = eye_tracking.calculate_convergence_scores(save_plots_to=plots_directory)\n",
    "convergence_scores.to_csv(convergence_scores_path, index=False)"
   ]
  },
  {
   "cell_type": "markdown",
   "id": "6073f766",
   "metadata": {},
   "source": [
    "### Bout classification including eye convergence data"
   ]
  },
  {
   "cell_type": "code",
   "execution_count": 8,
   "id": "b760b753",
   "metadata": {},
   "outputs": [
    {
     "ename": "UFuncTypeError",
     "evalue": "ufunc 'add' did not contain a loop with signature matching types (dtype('<U32'), dtype('<U32')) -> dtype('<U32')",
     "output_type": "error",
     "traceback": [
      "\u001b[1;31m---------------------------------------------------------------------------\u001b[0m",
      "\u001b[1;31mUFuncTypeError\u001b[0m                            Traceback (most recent call last)",
      "\u001b[1;32m~\\AppData\\Local\\Temp\\ipykernel_22092\\2458542704.py\u001b[0m in \u001b[0;36m<module>\u001b[1;34m\u001b[0m\n\u001b[0;32m     11\u001b[0m \u001b[1;33m\u001b[0m\u001b[0m\n\u001b[0;32m     12\u001b[0m \u001b[1;31m# Import bout data\u001b[0m\u001b[1;33m\u001b[0m\u001b[1;33m\u001b[0m\u001b[1;33m\u001b[0m\u001b[0m\n\u001b[1;32m---> 13\u001b[1;33m \u001b[0mbouts\u001b[0m \u001b[1;33m=\u001b[0m \u001b[0mbouts\u001b[0m \u001b[1;33m=\u001b[0m \u001b[0mBoutData\u001b[0m\u001b[1;33m.\u001b[0m\u001b[0mfrom_metadata\u001b[0m\u001b[1;33m(\u001b[0m\u001b[0mbouts_df\u001b[0m\u001b[1;33m,\u001b[0m \u001b[0mexperiment\u001b[0m\u001b[1;33m.\u001b[0m\u001b[0msubdirs\u001b[0m\u001b[1;33m[\u001b[0m\u001b[1;34m'kinematics'\u001b[0m\u001b[1;33m]\u001b[0m\u001b[1;33m,\u001b[0m \u001b[0mtail_only\u001b[0m\u001b[1;33m=\u001b[0m\u001b[1;32mFalse\u001b[0m\u001b[1;33m)\u001b[0m\u001b[1;33m\u001b[0m\u001b[1;33m\u001b[0m\u001b[0m\n\u001b[0m\u001b[0;32m     14\u001b[0m \u001b[1;33m\u001b[0m\u001b[0m\n\u001b[0;32m     15\u001b[0m \u001b[0mprint_heading\u001b[0m\u001b[1;33m(\u001b[0m\u001b[1;34m'CLASSIFYING BOUTS'\u001b[0m\u001b[1;33m)\u001b[0m\u001b[1;33m\u001b[0m\u001b[1;33m\u001b[0m\u001b[0m\n",
      "\u001b[1;32mc:\\Users\\manyung.ng\\Documents\\behaviour_analysis\\behavior_analysis_tracking\\behavior_analysis\\analysis\\bouts.py\u001b[0m in \u001b[0;36mfrom_metadata\u001b[1;34m(cls, metadata, directory, tail_only)\u001b[0m\n\u001b[0;32m     52\u001b[0m         \u001b[1;32mfor\u001b[0m \u001b[0mID\u001b[0m\u001b[1;33m,\u001b[0m \u001b[0mfish_bouts\u001b[0m \u001b[1;32min\u001b[0m \u001b[0mbouts_df\u001b[0m\u001b[1;33m.\u001b[0m\u001b[0mgroupby\u001b[0m\u001b[1;33m(\u001b[0m\u001b[1;34m'ID'\u001b[0m\u001b[1;33m)\u001b[0m\u001b[1;33m:\u001b[0m\u001b[1;33m\u001b[0m\u001b[1;33m\u001b[0m\u001b[0m\n\u001b[0;32m     53\u001b[0m             \u001b[1;32mfor\u001b[0m \u001b[0mcode\u001b[0m \u001b[1;32min\u001b[0m \u001b[0mpd\u001b[0m\u001b[1;33m.\u001b[0m\u001b[0munique\u001b[0m\u001b[1;33m(\u001b[0m\u001b[0mfish_bouts\u001b[0m\u001b[1;33m[\u001b[0m\u001b[1;34m'code'\u001b[0m\u001b[1;33m]\u001b[0m\u001b[1;33m)\u001b[0m\u001b[1;33m:\u001b[0m\u001b[1;33m\u001b[0m\u001b[1;33m\u001b[0m\u001b[0m\n\u001b[1;32m---> 54\u001b[1;33m                 \u001b[0mpaths\u001b[0m\u001b[1;33m.\u001b[0m\u001b[0mappend\u001b[0m\u001b[1;33m(\u001b[0m\u001b[0mdirectory\u001b[0m\u001b[1;33m.\u001b[0m\u001b[0mjoinpath\u001b[0m\u001b[1;33m(\u001b[0m\u001b[0mID\u001b[0m\u001b[1;33m,\u001b[0m \u001b[0mcode\u001b[0m \u001b[1;33m+\u001b[0m \u001b[1;34m'.csv'\u001b[0m\u001b[1;33m)\u001b[0m\u001b[1;33m)\u001b[0m\u001b[1;33m\u001b[0m\u001b[1;33m\u001b[0m\u001b[0m\n\u001b[0m\u001b[0;32m     55\u001b[0m         \u001b[1;31m# Import bouts\u001b[0m\u001b[1;33m\u001b[0m\u001b[1;33m\u001b[0m\u001b[1;33m\u001b[0m\u001b[0m\n\u001b[0;32m     56\u001b[0m         \u001b[0mdata\u001b[0m \u001b[1;33m=\u001b[0m \u001b[0mimport_csvs\u001b[0m\u001b[1;33m(\u001b[0m\u001b[1;33m*\u001b[0m\u001b[0mpaths\u001b[0m\u001b[1;33m)\u001b[0m\u001b[1;33m\u001b[0m\u001b[1;33m\u001b[0m\u001b[0m\n",
      "\u001b[1;31mUFuncTypeError\u001b[0m: ufunc 'add' did not contain a loop with signature matching types (dtype('<U32'), dtype('<U32')) -> dtype('<U32')"
     ]
    }
   ],
   "source": [
    "bouts_path = os.path.join(experiment.subdirs['analysis'], 'bouts.csv')\n",
    "bouts_df = pd.read_csv(bouts_path, index_col=0, dtype={'ID': str, 'video_code': str})\n",
    "\n",
    "eye_convergence_directory = os.path.join(experiment.subdirs['analysis'], 'eye_convergence')\n",
    "convergence_scores_path = os.path.join(eye_convergence_directory, 'convergence_scores.csv')\n",
    "\n",
    "convergence_scores = pd.read_csv(convergence_scores_path, dtype={'ID': str})\n",
    "\n",
    "frame_rate = 250.\n",
    "window = int(0.02 * 250)\n",
    "\n",
    "# Import bout data\n",
    "bouts = bouts = BoutData.from_metadata(bouts_df, experiment.subdirs['kinematics'], tail_only=False)\n",
    "\n",
    "print_heading('CLASSIFYING BOUTS')\n",
    "convergence_states = np.empty((len(bouts_df), 4))\n",
    "i = 0\n",
    "for idx, fish_info in convergence_scores.iterrows():\n",
    "    print(fish_info.ID)\n",
    "    for bout in bouts.list_bouts(IDs=[fish_info.ID]):\n",
    "        bout_convergence = np.degrees(bout['right'] - bout['left'])\n",
    "        convergence_start = bout_convergence[:window].mean()\n",
    "        convergence_end = bout_convergence[-window:].mean()\n",
    "        convergence_states[i, :2] = np.array([convergence_start, convergence_end])\n",
    "        convergence_states[i, 2:] = (np.array([convergence_start, convergence_end]) >= fish_info.threshold)\n",
    "        i += 1\n",
    "assert i == len(convergence_states), 'Incorrect number of bouts!'\n",
    "np.save(os.path.join(eye_convergence_directory, 'convergence_states.npy'), convergence_states)"
   ]
  }
 ],
 "metadata": {
  "kernelspec": {
   "display_name": "behavior_analysis",
   "language": "python",
   "name": "python3"
  },
  "language_info": {
   "codemirror_mode": {
    "name": "ipython",
    "version": 3
   },
   "file_extension": ".py",
   "mimetype": "text/x-python",
   "name": "python",
   "nbconvert_exporter": "python",
   "pygments_lexer": "ipython3",
   "version": "3.7.6"
  }
 },
 "nbformat": 4,
 "nbformat_minor": 5
}
