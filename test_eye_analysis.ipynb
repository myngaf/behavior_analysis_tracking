{
 "cells": [
  {
   "cell_type": "markdown",
   "id": "9d1c9c2c",
   "metadata": {},
   "source": [
    "Notebook description: <br>\n",
    "\n",
    "This notebook is created to analysis the kinematics data obtained after running the tracking code. <br>\n",
    "\n",
    "Most of the tracking and analysis codes are written by Duncan and pieced together in this notebook. <br>\n",
    "\n",
    "This one is specific to analysing eye convergence."
   ]
  },
  {
   "cell_type": "markdown",
   "id": "04d73db9",
   "metadata": {},
   "source": [
    "### Import experiment (tracked and with kinematics data)."
   ]
  },
  {
   "cell_type": "code",
   "execution_count": null,
   "id": "c9f1fcd5",
   "metadata": {},
   "outputs": [],
   "source": [
    "from behavior_analysis.experiment import BehaviorExperiment\n",
    "import pandas as pd\n",
    "# Open experiment\n",
    "experiment = BehaviorExperiment.open(r\"C:\\Users\\manyung.ng\\Documents\\behaviour_analysis\\behavior_analysis_tracking\\uv_trial\")\n",
    "print(experiment)\n",
    "# Open video and bout info\n",
    "video_info = pd.read_csv(experiment.directory.joinpath('video_data.csv'), dtype={'ID': str, 'code': str})\n",
    "bouts_df = pd.read_csv(experiment.subdirs[\"analysis\"].joinpath('bouts.csv'),\n",
    "                        dtype={'ID': str, 'code': str})"
   ]
  },
  {
   "cell_type": "markdown",
   "id": "ce9b2b5e",
   "metadata": {},
   "source": [
    "### Data information\n",
    "\n",
    "- Fish ID in the format 'YYYYMMDDNN' (year, month, day, zero-padded fish number; e.g. fish_1 on 2025_05_29 would be 20250529) <br>\n",
    "\n",
    "- Video code in the format 'IDHHMMSS' (fish_ID, hour, minute, second) <br>\n",
    "\n",
    "- Number of rows == number of frames in the video\n",
    "\n",
    "#### Description of data in the \"kinematics/code + .csv\"\n",
    "| Column name | Column data description |\n",
    "| --- | --- |\n",
    "| 'k0' - 'k(n-1)' | angle of tangents between n successive tail points |\n",
    "| 'tip' | the average curvature (tail angle) over the last 20% of the tail|\n",
    "| 'length' | the length of the tail (useful for finding tracking errors) |\n",
    "| 'left' | the angle of the left eye relative to the heading |\n",
    "| 'right' | the angle of the right eye relative to the heading |\n",
    "| 'speed' | the instantaneous speed in each frame |\n",
    "| 'angular_velocity' | the instantaneous angular velocity in each frame |\n",
    "| 'tracked' | whether kinematic data exists from the frame |"
   ]
  },
  {
   "cell_type": "markdown",
   "id": "5ca947da",
   "metadata": {},
   "source": [
    "## Eye convergence analysis"
   ]
  },
  {
   "cell_type": "markdown",
   "id": "15cde196",
   "metadata": {},
   "source": [
    "Before running Duncan's analysis codes, let's check out what the eye angle looks like by simply plotting them out!"
   ]
  },
  {
   "cell_type": "code",
   "execution_count": null,
   "id": "7adbea72",
   "metadata": {},
   "outputs": [],
   "source": [
    "# load kinematics data\n",
    "# example data info:\n",
    "# fish: progeny of mafaa:QF2, ath5:Cre, QUAS:switchNTR outX (fish_3)\n",
    "# condition: -NTR, +UV (no mafaa+ RGC ablation)\n",
    "# videos: 250fps (unstable fps for this test recording), 2.5min each, 12 recordings (30min) in total\n",
    "\n",
    "# 2nd video of the trial, no paramecia\n",
    "test_kinematics_df1 = pd.read_csv(experiment.subdirs['kinematics'].joinpath(\"2025060603/2025060603163529.777.csv\")).get([\"speed\", \"angular_velocity\",\"left_angle\",\"right_angle\"])\n",
    "# 7th video of the trial, with paramecia\n",
    "test_kinematics_df2 = pd.read_csv(experiment.subdirs['kinematics'].joinpath(\"2025060603/2025060603165036.654.csv\")).get([\"speed\", \"angular_velocity\",\"left_angle\",\"right_angle\"])\n",
    "# last video of the trial, with paramecia\n",
    "test_kinematics_df3 = pd.read_csv(experiment.subdirs['kinematics'].joinpath(\"2025060603/2025060603170312.514.csv\")).get([\"speed\", \"angular_velocity\",\"left_angle\",\"right_angle\"])\n",
    "print(test_kinematics_df1, test_kinematics_df2)\n",
    "test_kinematics_df3"
   ]
  },
  {
   "cell_type": "code",
   "execution_count": null,
   "id": "8eead734",
   "metadata": {},
   "outputs": [],
   "source": [
    "# try plotting with seaborn\n",
    "import seaborn as sns\n",
    "# set figure size\n",
    "sns.set_theme(rc={\"figure.figsize\": (20,5)})"
   ]
  },
  {
   "cell_type": "code",
   "execution_count": null,
   "id": "21879543",
   "metadata": {},
   "outputs": [],
   "source": [
    "# check out the speed of the fish\n",
    "sns.lineplot(data=test_kinematics_df1, x=test_kinematics_df1.index, y=\"speed\") # in blue\n",
    "sns.lineplot(data=test_kinematics_df2, x=test_kinematics_df2.index, y=\"speed\") # in orange\n",
    "sns.lineplot(data=test_kinematics_df3, x=test_kinematics_df3.index, y=\"speed\") # in green"
   ]
  },
  {
   "cell_type": "code",
   "execution_count": null,
   "id": "88174e20",
   "metadata": {},
   "outputs": [],
   "source": [
    "# check out the angular velocity of the fish\n",
    "sns.lineplot(data=test_kinematics_df1, x=test_kinematics_df1.index, y=\"angular_velocity\") # in blue\n",
    "sns.lineplot(data=test_kinematics_df2, x=test_kinematics_df2.index, y=\"angular_velocity\") # in orange\n",
    "sns.lineplot(data=test_kinematics_df3, x=test_kinematics_df3.index, y=\"angular_velocity\") # in green"
   ]
  },
  {
   "cell_type": "code",
   "execution_count": null,
   "id": "57120f40",
   "metadata": {},
   "outputs": [],
   "source": [
    "# melt the df for plotting left and right eye angles at the same scale\n",
    "test_kinematics_df1 = test_kinematics_df1.reset_index().rename(columns={'index': 'frame'}).melt( # reset_index and rename put the frame number (the original index) in a separate column\n",
    "    id_vars= ['speed','angular_velocity','frame'], # these columns will be kept the same\n",
    "    value_vars= ['left_angle','right_angle'], # these columns will be melted\n",
    "    var_name= \"direction\", # the column name 'left_angle' and 'right_angle' will now label the angle degree in a separate column\n",
    "    value_name= \"angle (degree)\" # the values of the 'left_angle' and 'right_angle' columns are now in one columns\n",
    ")\n",
    "test_kinematics_df1"
   ]
  },
  {
   "cell_type": "code",
   "execution_count": null,
   "id": "aec885a9",
   "metadata": {},
   "outputs": [],
   "source": [
    "# description same as above but for the second df\n",
    "test_kinematics_df2 = test_kinematics_df2.reset_index().rename(columns={'index': 'frame'}).melt(\n",
    "    id_vars= ['speed','angular_velocity','frame'],\n",
    "    value_vars= ['left_angle','right_angle'],\n",
    "    var_name= \"direction\",\n",
    "    value_name= \"angle (degree)\"\n",
    ")\n",
    "test_kinematics_df2"
   ]
  },
  {
   "cell_type": "code",
   "execution_count": null,
   "id": "2e748dc6",
   "metadata": {},
   "outputs": [],
   "source": [
    "# description same as above but for the third df\n",
    "test_kinematics_df3 = test_kinematics_df3.reset_index().rename(columns={'index': 'frame'}).melt( \n",
    "    id_vars= ['speed','angular_velocity','frame'],\n",
    "    value_vars= ['left_angle','right_angle'],\n",
    "    var_name= \"direction\",\n",
    "    value_name= \"angle (degree)\"\n",
    ")\n",
    "test_kinematics_df3"
   ]
  },
  {
   "cell_type": "code",
   "execution_count": null,
   "id": "d1e90980",
   "metadata": {},
   "outputs": [],
   "source": [
    "# at the beginning of trial, before introduction of paramecia\n",
    "sns.lineplot(data=test_kinematics_df1, x='frame', y=\"angle (degree)\", hue=\"direction\", legend=\"auto\")"
   ]
  },
  {
   "cell_type": "code",
   "execution_count": null,
   "id": "93116e65",
   "metadata": {},
   "outputs": [],
   "source": [
    "# in the middle of trial, after introduction of paramecia\n",
    "sns.lineplot(data=test_kinematics_df2, x='frame', y=\"angle (degree)\", hue=\"direction\", legend=\"auto\")"
   ]
  },
  {
   "cell_type": "code",
   "execution_count": null,
   "id": "104e0ddb",
   "metadata": {},
   "outputs": [],
   "source": [
    "# at the end of the trial, after introduction of paramecia\n",
    "sns.lineplot(data=test_kinematics_df3, x='frame', y=\"angle (degree)\", hue=\"direction\", legend=\"auto\")"
   ]
  },
  {
   "cell_type": "code",
   "execution_count": null,
   "id": "a10470a7",
   "metadata": {},
   "outputs": [],
   "source": [
    "# load kinematics data\n",
    "# example data info:\n",
    "# fish: progeny of mafaa:QF2, ath5:Cre, QUAS:switchNTR outX (fish_2)\n",
    "# condition: -NTR, -UV (no mafaa+ RGC ablation)\n",
    "# videos: 250fps (unstable fps for this test recording), 2.5min each, 12 recordings (30min) in total\n",
    "\n",
    "# 2nd video of the trial, no paramecia\n",
    "test_kinematics_df1 = pd.read_csv(experiment.subdirs['kinematics'].joinpath(\"2025060602/2025060602155607.538.csv\")).get([\"speed\", \"angular_velocity\",\"left_angle\",\"right_angle\"])\n",
    "# 6th video of the trial, with paramecia\n",
    "test_kinematics_df2 = pd.read_csv(experiment.subdirs['kinematics'].joinpath(\"2025060602/2025060602160612.354.csv\")).get([\"speed\", \"angular_velocity\",\"left_angle\",\"right_angle\"])\n",
    "# 2nd last video of the trial, with paramecia\n",
    "test_kinematics_df3 = pd.read_csv(experiment.subdirs['kinematics'].joinpath(\"2025060602/2025060602162119.139.csv\")).get([\"speed\", \"angular_velocity\",\"left_angle\",\"right_angle\"])\n",
    "print(test_kinematics_df1, test_kinematics_df2)\n",
    "test_kinematics_df3"
   ]
  },
  {
   "cell_type": "code",
   "execution_count": null,
   "id": "dbf4a75c",
   "metadata": {},
   "outputs": [],
   "source": [
    "# check out the speed of the fish\n",
    "sns.lineplot(data=test_kinematics_df1, x=test_kinematics_df1.index, y=\"speed\") # in blue\n",
    "sns.lineplot(data=test_kinematics_df2, x=test_kinematics_df2.index, y=\"speed\") # in orange\n",
    "sns.lineplot(data=test_kinematics_df3, x=test_kinematics_df3.index, y=\"speed\") # in green"
   ]
  },
  {
   "cell_type": "code",
   "execution_count": null,
   "id": "a6b453fe",
   "metadata": {},
   "outputs": [],
   "source": [
    "# check out the angular velocity of the fish\n",
    "sns.lineplot(data=test_kinematics_df1, x=test_kinematics_df1.index, y=\"angular_velocity\") # in blue\n",
    "sns.lineplot(data=test_kinematics_df2, x=test_kinematics_df2.index, y=\"angular_velocity\") # in orange\n",
    "sns.lineplot(data=test_kinematics_df3, x=test_kinematics_df3.index, y=\"angular_velocity\") # in green"
   ]
  },
  {
   "cell_type": "code",
   "execution_count": null,
   "id": "ae32a748",
   "metadata": {},
   "outputs": [],
   "source": [
    "# melt the df for plotting left and right eye angles at the same scale\n",
    "test_kinematics_df1 = test_kinematics_df1.reset_index().rename(columns={'index': 'frame'}).melt( # reset_index and rename put the frame number (the original index) in a separate column\n",
    "    id_vars= ['speed','angular_velocity','frame'],\n",
    "    value_vars= ['left_angle','right_angle'],\n",
    "    var_name= \"direction\",\n",
    "    value_name= \"angle (degree)\"\n",
    ")\n",
    "\n",
    "test_kinematics_df2 = test_kinematics_df2.reset_index().rename(columns={'index': 'frame'}).melt( # reset_index and rename put the frame number (the original index) in a separate column\n",
    "    id_vars= ['speed','angular_velocity','frame'],\n",
    "    value_vars= ['left_angle','right_angle'],\n",
    "    var_name= \"direction\",\n",
    "    value_name= \"angle (degree)\"\n",
    ")\n",
    "test_kinematics_df3 = test_kinematics_df3.reset_index().rename(columns={'index': 'frame'}).melt( # reset_index and rename put the frame number (the original index) in a separate column\n",
    "    id_vars= ['speed','angular_velocity','frame'],\n",
    "    value_vars= ['left_angle','right_angle'],\n",
    "    var_name= \"direction\",\n",
    "    value_name= \"angle (degree)\"\n",
    ")\n",
    "\n",
    "test_kinematics_df3 # check if it's melted"
   ]
  },
  {
   "cell_type": "code",
   "execution_count": null,
   "id": "d8ffe514",
   "metadata": {},
   "outputs": [],
   "source": [
    "# at the beginning of trial, before introduction of paramecia\n",
    "sns.lineplot(data=test_kinematics_df1, x='frame', y=\"angle (degree)\", hue=\"direction\", legend=\"auto\")"
   ]
  },
  {
   "cell_type": "code",
   "execution_count": null,
   "id": "45447b94",
   "metadata": {},
   "outputs": [],
   "source": [
    "# in the middle of trial, after introduction of paramecia\n",
    "sns.lineplot(data=test_kinematics_df2, x='frame', y=\"angle (degree)\", hue=\"direction\", legend=\"auto\")"
   ]
  },
  {
   "cell_type": "code",
   "execution_count": null,
   "id": "a0d69baa",
   "metadata": {},
   "outputs": [],
   "source": [
    "# at the end of the trial, after introduction of paramecia\n",
    "sns.lineplot(data=test_kinematics_df3, x='frame', y=\"angle (degree)\", hue=\"direction\", legend=\"auto\")"
   ]
  },
  {
   "cell_type": "markdown",
   "id": "1f7f8961",
   "metadata": {},
   "source": [
    "the stuff below for the eye convergence part is still in construction"
   ]
  },
  {
   "cell_type": "code",
   "execution_count": null,
   "id": "5bd54062",
   "metadata": {},
   "outputs": [],
   "source": [
    "from behavior_analysis.experiment import BehaviorExperiment\n",
    "from behavior_analysis.analysis.bouts import BoutData\n",
    "from behavior_analysis.analysis import eye_tracking_data\n",
    "from behavior_analysis.utilities.manage_files_helpers import create_folder\n",
    "from pathlib import Path\n",
    "import os"
   ]
  },
  {
   "cell_type": "code",
   "execution_count": null,
   "id": "a15a52f9",
   "metadata": {},
   "outputs": [],
   "source": [
    "# the original version\n",
    "def import_eye_angles(*paths):\n",
    "        \"\"\"Import eye angle data from kinematic files.\n",
    "\n",
    "        Parameters\n",
    "        ----------\n",
    "        paths : iterable\n",
    "            List of paths to files containing kinematic data from tracked video\n",
    "\n",
    "        Returns\n",
    "        -------\n",
    "        fish_angles : pd.DataFrame\n",
    "            DataFrame containing left eye angle, right eye angle and eye convergence angle across all frames\n",
    "        \"\"\"\n",
    "        print('Importing data ({} files)'.format(len(paths)))\n",
    "        fish_angles = []\n",
    "        for i, path in enumerate(paths):\n",
    "            print(i + 1,)\n",
    "            kinematics = pd.read_csv(path)\n",
    "            tracked = kinematics[kinematics['tracked']]\n",
    "            eye_angles = tracked[['right_angle', 'left_angle']].applymap(np.degrees)\n",
    "            fish_angles.append(eye_angles)\n",
    "        fish_angles = pd.concat(fish_angles, ignore_index=True, axis=0)\n",
    "        fish_angles['convergence'] = (fish_angles['right_angle'] - fish_angles['left_angle'])\n",
    "        print('\\ndone!\\n')\n",
    "        return fish_angles"
   ]
  },
  {
   "cell_type": "code",
   "execution_count": null,
   "id": "55f34863",
   "metadata": {},
   "outputs": [],
   "source": [
    "# duplicate for modification\n",
    "def import_eye_angles(*paths):\n",
    "        \"\"\"Import eye angle data from kinematic files.\n",
    "\n",
    "        Parameters\n",
    "        ----------\n",
    "        paths : iterable\n",
    "            List of paths to files containing kinematic data from tracked video\n",
    "\n",
    "        Returns\n",
    "        -------\n",
    "        fish_angles : pd.DataFrame\n",
    "            DataFrame containing left eye angle, right eye angle and eye convergence angle across all frames\n",
    "        \"\"\"\n",
    "        print('Importing data ({} files)'.format(len(paths)))\n",
    "        fish_angles = []\n",
    "        for i, path in enumerate(paths):\n",
    "            print(i + 1,)\n",
    "            kinematics = pd.read_csv(path)\n",
    "            tracked = kinematics[kinematics['tracked']]\n",
    "            eye_angles = tracked[['right_angle', 'left_angle']].applymap(np.degrees)\n",
    "            print(eye_angles)\n",
    "            fish_angles.append(eye_angles)\n",
    "        fish_angles = pd.concat(fish_angles, ignore_index=True, axis=0)\n",
    "        fish_angles['convergence'] = (fish_angles['right_angle'] - fish_angles['left_angle'])\n",
    "        print('\\ndone!\\n')\n",
    "        return fish_angles"
   ]
  },
  {
   "cell_type": "code",
   "execution_count": null,
   "id": "3c48ada7",
   "metadata": {},
   "outputs": [],
   "source": [
    "# test chunk\n",
    "from behavior_analysis.utilities import manage_files_helpers\n",
    "import numpy as np\n",
    "\n",
    "eye_data = {}\n",
    "\n",
    "for idx, fish_info in experiment.animal_data.iterrows():\n",
    "    print(fish_info.ID)\n",
    "    kinematics_directory = experiment.subdirs[\"kinematics\"].joinpath(fish_info.ID)\n",
    "    print(kinematics_directory)\n",
    "    kinematics_files, kinematics_paths = manage_files_helpers.get_files(kinematics_directory)\n",
    "    print(kinematics_files, type(kinematics_files), kinematics_paths, type(kinematics_paths))\n",
    "    import_eye_angles(kinematics_paths)"
   ]
  },
  {
   "cell_type": "code",
   "execution_count": null,
   "id": "2c797a96",
   "metadata": {},
   "outputs": [],
   "source": [
    "# test chunk\n",
    "# experiment.subdirs['kinematics'].joinpath(\"2025060603/2025060603163529.777.csv\"))\n",
    "# bouts_df = pd.read_csv(experiment.subdirs[\"analysis\"].joinpath('bouts.csv'), dtype={'ID': str, 'code': str})\n",
    "\n",
    "from behavior_analysis.utilities import manage_files_helpers\n",
    "import numpy as np\n",
    "\n",
    "eye_data = {}\n",
    "for idx, fish_info in experiment.animal_data.iterrows():\n",
    "    print(fish_info.ID)\n",
    "    kinematics_directory = experiment.subdirs[\"kinematics\"].joinpath(fish_info.ID)\n",
    "    print(kinematics_directory)\n",
    "    kinematics_files, kinematics_paths = manage_files_helpers.get_files(kinematics_directory)\n",
    "    print(kinematics_files, type(kinematics_files), kinematics_paths, type(kinematics_paths))\n",
    "    fish_angles = []\n",
    "    for i, kinematics_files in enumerate(kinematics_files):\n",
    "        print(i + 1,)\n",
    "        kinematics = pd.read_csv(os.path.join(kinematics_directory, kinematics_files))\n",
    "        print(kinematics)\n",
    "        tracked = kinematics[kinematics['tracked']]\n",
    "        eye_angles = tracked[['right_angle', 'left_angle']].applymap(np.degrees)\n",
    "        print(eye_angles)\n",
    "        fish_angles.append(eye_angles)\n",
    "    fish_angles = pd.concat(fish_angles, ignore_index=True, axis=0)\n",
    "    fish_angles['convergence'] = (fish_angles['right_angle'] - fish_angles['left_angle'])\n",
    "    print(fish_angles, '\\ndone!\\n')\n",
    "\n",
    "\n",
    "\n",
    "\n",
    "\n",
    "\n",
    "    # fish_angles = eye_tracking_data.EyeConvergenceAnalyser.import_eye_angles(*kinematics_paths)\n",
    "    # eye_data[fish_info.ID] = fish_angles\n",
    "    # metadata_columns = ['ID', 'date', 'name']"
   ]
  },
  {
   "cell_type": "code",
   "execution_count": 40,
   "id": "55da296c",
   "metadata": {},
   "outputs": [],
   "source": [
    "from behavior_analysis.experiment import BehaviorExperiment\n",
    "from behavior_analysis.analysis.bouts import BoutData\n",
    "from behavior_analysis.analysis import eye_tracking_data\n",
    "from behavior_analysis.utilities.manage_files_helpers import create_folder\n",
    "from pathlib import Path\n",
    "import os"
   ]
  },
  {
   "cell_type": "code",
   "execution_count": 37,
   "id": "10ae294a",
   "metadata": {},
   "outputs": [
    {
     "name": "stdout",
     "output_type": "stream",
     "text": [
      "name: uv_trial\n",
      "date: 2025-06-25\n",
      "animal_data: fish_data.csv\n",
      "video_data: video_data.csv\n",
      "mask_data: mask_data.csv\n",
      "bout_detection: {'threshold': 0.02, 'winsize': 0.05}\n",
      "\n"
     ]
    }
   ],
   "source": [
    "from behavior_analysis.experiment import  BehaviorExperiment\n",
    "import pandas as pd\n",
    "# Open experiment\n",
    "experiment = BehaviorExperiment.open(r\"C:\\Users\\manyung.ng\\Documents\\behaviour_analysis\\behavior_analysis_tracking\\uv_trial\")\n",
    "print(experiment)"
   ]
  },
  {
   "cell_type": "code",
   "execution_count": 39,
   "id": "1f1b505e",
   "metadata": {},
   "outputs": [
    {
     "data": {
      "text/plain": [
       "dict_keys(['2025060601', '2025060602', '2025060603'])"
      ]
     },
     "execution_count": 39,
     "metadata": {},
     "output_type": "execute_result"
    }
   ],
   "source": [
    "eye_tracking.data.keys()"
   ]
  },
  {
   "cell_type": "code",
   "execution_count": null,
   "id": "b91c670c",
   "metadata": {},
   "outputs": [],
   "source": [
    "output_directory = create_folder(experiment.subdirs['analysis'], 'eye_convergence')\n",
    "convergence_scores_path = os.path.join(output_directory, 'convergence_scores.csv')\n",
    "\n",
    "eye_tracking = eye_tracking_data.EyeTrackingData.from_experiment(experiment)\n",
    "\n",
    "plots_directory = create_folder(output_directory, 'plots')"
   ]
  },
  {
   "cell_type": "code",
   "execution_count": null,
   "id": "eb80a71c",
   "metadata": {},
   "outputs": [
    {
     "name": "stdout",
     "output_type": "stream",
     "text": [
      "\n",
      "========================\n",
      "IMPORTING EYE ANGLE DATA\n",
      "======================== \n",
      "\n",
      "\n",
      "2025060601\n",
      "----------\n",
      "Importing data (12 files)\n",
      "1\n",
      "2\n",
      "3\n",
      "4\n",
      "5\n",
      "6\n",
      "7\n",
      "8\n",
      "9\n",
      "10\n",
      "11\n",
      "12\n",
      "\n",
      "done!\n",
      "\n",
      "\n",
      "2025060602\n",
      "----------\n",
      "Importing data (12 files)\n",
      "1\n",
      "2\n",
      "3\n",
      "4\n",
      "5\n",
      "6\n",
      "7\n",
      "8\n",
      "9\n",
      "10\n",
      "11\n",
      "12\n",
      "\n",
      "done!\n",
      "\n",
      "\n",
      "2025060603\n",
      "----------\n",
      "Importing data (12 files)\n",
      "1\n",
      "2\n",
      "3\n",
      "4\n",
      "5\n",
      "6\n",
      "7\n",
      "8\n",
      "9\n",
      "10\n",
      "11\n",
      "12\n",
      "\n",
      "done!\n",
      "\n",
      "\n",
      "==============================\n",
      "CALCULATING CONVERGENCE SCORES\n",
      "============================== \n",
      "\n"
     ]
    },
    {
     "ename": "AttributeError",
     "evalue": "'dict' object has no attribute 'iteritems'",
     "output_type": "error",
     "traceback": [
      "\u001b[1;31m---------------------------------------------------------------------------\u001b[0m",
      "\u001b[1;31mAttributeError\u001b[0m                            Traceback (most recent call last)",
      "\u001b[1;32m~\\AppData\\Local\\Temp\\ipykernel_16700\\570911984.py\u001b[0m in \u001b[0;36m<module>\u001b[1;34m\u001b[0m\n\u001b[0;32m      5\u001b[0m \u001b[1;33m\u001b[0m\u001b[0m\n\u001b[0;32m      6\u001b[0m \u001b[0mplots_directory\u001b[0m \u001b[1;33m=\u001b[0m \u001b[0mcreate_folder\u001b[0m\u001b[1;33m(\u001b[0m\u001b[0moutput_directory\u001b[0m\u001b[1;33m,\u001b[0m \u001b[1;34m'plots'\u001b[0m\u001b[1;33m)\u001b[0m\u001b[1;33m\u001b[0m\u001b[1;33m\u001b[0m\u001b[0m\n\u001b[1;32m----> 7\u001b[1;33m \u001b[0mconvergence_scores\u001b[0m \u001b[1;33m=\u001b[0m \u001b[0meye_tracking\u001b[0m\u001b[1;33m.\u001b[0m\u001b[0mcalculate_convergence_scores\u001b[0m\u001b[1;33m(\u001b[0m\u001b[0msave_plots_to\u001b[0m\u001b[1;33m=\u001b[0m\u001b[0mplots_directory\u001b[0m\u001b[1;33m)\u001b[0m\u001b[1;33m\u001b[0m\u001b[1;33m\u001b[0m\u001b[0m\n\u001b[0m\u001b[0;32m      8\u001b[0m \u001b[0mconvergence_scores\u001b[0m\u001b[1;33m.\u001b[0m\u001b[0mto_csv\u001b[0m\u001b[1;33m(\u001b[0m\u001b[0mconvergence_scores_path\u001b[0m\u001b[1;33m,\u001b[0m \u001b[0mindex\u001b[0m\u001b[1;33m=\u001b[0m\u001b[1;32mFalse\u001b[0m\u001b[1;33m)\u001b[0m\u001b[1;33m\u001b[0m\u001b[1;33m\u001b[0m\u001b[0m\n",
      "\u001b[1;32mc:\\Users\\manyung.ng\\Documents\\behaviour_analysis\\behavior_analysis_tracking\\behavior_analysis\\analysis\\eye_tracking_data.py\u001b[0m in \u001b[0;36mcalculate_convergence_scores\u001b[1;34m(self, save_plots_to, **kwargs)\u001b[0m\n\u001b[0;32m    137\u001b[0m         \u001b[1;33m-\u001b[0m\u001b[1;33m-\u001b[0m\u001b[1;33m-\u001b[0m\u001b[1;33m-\u001b[0m\u001b[1;33m-\u001b[0m\u001b[1;33m-\u001b[0m\u001b[1;33m-\u001b[0m\u001b[1;33m\u001b[0m\u001b[1;33m\u001b[0m\u001b[0m\n\u001b[0;32m    138\u001b[0m         \u001b[0mconvergence_scores\u001b[0m \u001b[1;33m:\u001b[0m \u001b[0mpd\u001b[0m\u001b[1;33m.\u001b[0m\u001b[0mDataFrame\u001b[0m\u001b[1;33m\u001b[0m\u001b[1;33m\u001b[0m\u001b[0m\n\u001b[1;32m--> 139\u001b[1;33m             \u001b[0mDataFrame\u001b[0m \u001b[0mcontaining\u001b[0m \u001b[0munique\u001b[0m \u001b[0mID\u001b[0m \u001b[0midentifier\u001b[0m \u001b[1;32mfor\u001b[0m \u001b[0meach\u001b[0m \u001b[0manimal\u001b[0m \u001b[1;32min\u001b[0m \u001b[0mthe\u001b[0m \u001b[0mexperiment\u001b[0m\u001b[1;33m,\u001b[0m \u001b[0mthe\u001b[0m \u001b[0mconvergence\u001b[0m \u001b[0mscore\u001b[0m \u001b[1;32mfor\u001b[0m \u001b[0mthe\u001b[0m\u001b[1;33m\u001b[0m\u001b[1;33m\u001b[0m\u001b[0m\n\u001b[0m\u001b[0;32m    140\u001b[0m             \u001b[0manimal\u001b[0m\u001b[1;33m,\u001b[0m \u001b[1;32mand\u001b[0m \u001b[0mthe\u001b[0m \u001b[0mthreshold\u001b[0m \u001b[0mused\u001b[0m \u001b[0mto\u001b[0m \u001b[0mcompute\u001b[0m \u001b[0mthe\u001b[0m \u001b[0mconvergence\u001b[0m \u001b[0mscore\u001b[0m\u001b[1;33m.\u001b[0m \u001b[0mIf\u001b[0m \u001b[0mmetadata\u001b[0m \u001b[0mattribute\u001b[0m \u001b[1;32mis\u001b[0m \u001b[0mfilled\u001b[0m\u001b[1;33m,\u001b[0m \u001b[0mthis\u001b[0m\u001b[1;33m\u001b[0m\u001b[1;33m\u001b[0m\u001b[0m\n\u001b[0;32m    141\u001b[0m             information is also included.\"\"\"\n",
      "\u001b[1;31mAttributeError\u001b[0m: 'dict' object has no attribute 'iteritems'"
     ]
    }
   ],
   "source": [
    "convergence_scores = eye_tracking.calculate_convergence_scores(save_plots_to=plots_directory)\n",
    "convergence_scores.to_csv(convergence_scores_path, index=False)"
   ]
  },
  {
   "cell_type": "code",
   "execution_count": null,
   "id": "0b2d8570",
   "metadata": {},
   "outputs": [],
   "source": [
    "\n",
    "for code in bouts_df['code'].unique():\n",
    "    for ID in bouts_df[\"ID\"].unique():\n",
    "        kinematics_path = experiment.subdirs['kinematics'].joinpath(ID).joinpath(code + \".csv\")\n",
    "        if os.path.exists(kinematics_path):\n",
    "            # print(kinematics_path)\n",
    "            eye_angles = pd.read_csv(kinematics_path, dtype={'ID': str, 'code': str})\n",
    "eye_angles"
   ]
  },
  {
   "cell_type": "code",
   "execution_count": null,
   "id": "ce12ed1c",
   "metadata": {},
   "outputs": [],
   "source": [
    "eye_data = eye_convergence.EyeData.from_metadata(bouts_df, experiment.subdirs['kinematics'])\n",
    "eye_data"
   ]
  },
  {
   "cell_type": "code",
   "execution_count": null,
   "id": "1d5d7f09",
   "metadata": {},
   "outputs": [],
   "source": [
    "from behavior_analysis.analysis.bouts import BoutData\n",
    "\n",
    "# Import bouts\n",
    "bouts = BoutData.from_metadata(bouts_df, experiment.subdirs[\"kinematics\"], tail_only=True)"
   ]
  },
  {
   "cell_type": "code",
   "execution_count": null,
   "id": "8a597ac2",
   "metadata": {},
   "outputs": [],
   "source": [
    "convergence = eye_convergence.calculate_convergence(eye_data)"
   ]
  },
  {
   "cell_type": "code",
   "execution_count": null,
   "id": "8fd1df2f",
   "metadata": {},
   "outputs": [],
   "source": [
    "plots_directory = create_folder(output_directory, 'plots')\n",
    "convergence_scores = eye_convergence.EyeConvergenceAnalysis.calculate_convergence_score(eye_data)\n",
    "convergence_scores.to_csv(convergence_scores_path, index=False)\n",
    "eye_convergence.EyeConvergenceAnalysis.plot_histogram(convergence_scores, output_path= plots_directory)"
   ]
  },
  {
   "cell_type": "code",
   "execution_count": null,
   "id": "b760b753",
   "metadata": {},
   "outputs": [],
   "source": [
    "bouts_path = os.path.join(experiment.subdirs['analysis'], 'bouts.csv')\n",
    "bouts_df = pd.read_csv(bouts_path, index_col=0, dtype={'ID': str, 'video_code': str})\n",
    "\n",
    "eye_convergence_directory = os.path.join(experiment.subdirs['analysis'], 'eye_convergence')\n",
    "convergence_scores_path = os.path.join(eye_convergence_directory, 'convergence_scores.csv')\n",
    "\n",
    "convergence_scores = pd.read_csv(convergence_scores_path, dtype={'ID': str})\n",
    "\n",
    "frame_rate = 500.\n",
    "window = int(0.02 * 500)\n",
    "\n",
    "# Import bout data\n",
    "bouts = BoutData.from_directory(bouts_df, experiment.subdirs['kinematics'],\n",
    "                                check_tail_lengths=False, tail_columns_only=False)\n",
    "\n",
    "print_heading('CLASSIFYING BOUTS')\n",
    "convergence_states = np.empty((len(bouts_df), 4))\n",
    "i = 0\n",
    "for idx, fish_info in convergence_scores.iterrows():\n",
    "    print(fish_info.ID)\n",
    "    for bout in bouts.list_bouts(IDs=[fish_info.ID]):\n",
    "        bout_convergence = np.degrees(bout['right'] - bout['left'])\n",
    "        convergence_start = bout_convergence[:window].mean()\n",
    "        convergence_end = bout_convergence[-window:].mean()\n",
    "        convergence_states[i, :2] = np.array([convergence_start, convergence_end])\n",
    "        convergence_states[i, 2:] = (np.array([convergence_start, convergence_end]) >= fish_info.threshold)\n",
    "        i += 1\n",
    "assert i == len(convergence_states), 'Incorrect number of bouts!'\n",
    "np.save(os.path.join(eye_convergence_directory, 'convergence_states.npy'), convergence_states)"
   ]
  }
 ],
 "metadata": {
  "kernelspec": {
   "display_name": "behavior_analysis",
   "language": "python",
   "name": "python3"
  },
  "language_info": {
   "codemirror_mode": {
    "name": "ipython",
    "version": 3
   },
   "file_extension": ".py",
   "mimetype": "text/x-python",
   "name": "python",
   "nbconvert_exporter": "python",
   "pygments_lexer": "ipython3",
   "version": "3.7.6"
  }
 },
 "nbformat": 4,
 "nbformat_minor": 5
}
