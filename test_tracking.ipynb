{
 "cells": [
  {
   "cell_type": "code",
   "execution_count": 1,
   "id": "26bf31ee",
   "metadata": {},
   "outputs": [],
   "source": [
    "from behavior_analysis.experiment import BehaviorExperiment\n",
    "from pathlib import Path\n",
    "import sys\n",
    "if not sys.warnoptions:\n",
    "    import warnings\n",
    "    warnings.simplefilter(\"ignore\")"
   ]
  },
  {
   "cell_type": "code",
   "execution_count": null,
   "id": "28a8e251",
   "metadata": {},
   "outputs": [],
   "source": [
    "if __name__ == \"__main__\":\n",
    "\n",
    "    path = Path(r\"C:\\Users\\manyung.ng\\Documents\\behaviour_analysis\\behavior_analysis_tracking\\test_analysis\")\n",
    "\n",
    "    # Create experiment\n",
    "    experiment = BehaviorExperiment.create(path) # only do this once"
   ]
  },
  {
   "cell_type": "code",
   "execution_count": 3,
   "id": "47057b4d",
   "metadata": {},
   "outputs": [
    {
     "name": "stdout",
     "output_type": "stream",
     "text": [
      "name: recordings\n",
      "date: 2025-06-17\n",
      "animal_data: fish_data.csv\n",
      "video_data: video_data.csv\n",
      "mask_data: mask_data.csv\n",
      "\n"
     ]
    }
   ],
   "source": [
    "if __name__ == \"__main__\": \n",
    "   # Open experiment\n",
    "    experiment = BehaviorExperiment.open(path)\n",
    "    print(experiment)"
   ]
  },
  {
   "cell_type": "code",
   "execution_count": 6,
   "id": "7f88d85c",
   "metadata": {},
   "outputs": [
    {
     "name": "stdout",
     "output_type": "stream",
     "text": [
      "\n",
      "==========\n",
      "KINEMATICS\n",
      "========== \n",
      "\n",
      "\n",
      "2025052901\n",
      "----------\n",
      "2025052901153337.424: analysed\n",
      "2025052901153608.536: analysed\n",
      "2025052901153839.657: analysed\n",
      "\n",
      "2025052903\n",
      "----------\n",
      "2025052903160559.360: analysed\n",
      "2025052903160830.465: analysed\n",
      "2025052903161101.769: analysed\n",
      "2025052903161332.873: analysed\n",
      "2025052903161604.612: analysed\n",
      "2025052903161835.958: analysed\n",
      "2025052903162107.297: analysed\n",
      "2025052903162338.420: analysed\n",
      "2025052903162609.528: analysed\n",
      "2025052903162840.745: analysed\n",
      "2025052903163111.935: analysed\n",
      "2025052903163343.481: analysed\n",
      "\n",
      "2025052904\n",
      "----------\n",
      "2025052904171728.966: analysed\n",
      "2025052904172000.263: analysed\n",
      "2025052904172231.524: analysed\n",
      "2025052904172502.674: analysed\n",
      "2025052904172733.953: analysed\n",
      "2025052904173005.190: analysed\n",
      "2025052904173236.370: analysed\n",
      "2025052904173507.652: analysed\n",
      "2025052904173738.863: analysed\n",
      "2025052904174010.180: analysed\n",
      "2025052904174241.479: analysed\n",
      "2025052904174512.799: analysed\n",
      "\n",
      "2025052905\n",
      "----------\n",
      "2025052905180354.364: analysed\n",
      "2025052905180625.577: analysed\n",
      "2025052905180856.784: analysed\n",
      "2025052905181127.888: analysed\n",
      "2025052905181358.995: analysed\n",
      "2025052905181630.097: analysed\n",
      "2025052905181901.639: analysed\n",
      "2025052905182132.913: analysed\n",
      "2025052905182404.269: analysed\n",
      "2025052905182635.674: analysed\n",
      "2025052905182906.879: analysed\n",
      "2025052905183138.146: analysed\n",
      "\n",
      "2025052906\n",
      "----------\n",
      "2025052906184727.062: analysed\n",
      "2025052906184958.160: analysed\n",
      "2025052906185229.694: analysed\n",
      "2025052906185500.958: analysed\n",
      "2025052906185732.285: analysed\n",
      "2025052906190003.590: analysed\n",
      "2025052906190234.886: analysed\n",
      "2025052906190506.234: analysed\n",
      "2025052906190737.510: analysed\n",
      "2025052906191008.824: analysed\n",
      "2025052906191240.139: analysed\n",
      "2025052906191511.458: analysed\n"
     ]
    }
   ],
   "source": [
    "if __name__ == \"__main__\":  \n",
    "# Update animal info\n",
    "    experiment.update()\n",
    "    \n",
    "    # # Calculate background\n",
    "    # experiment.calculate_backgrounds(parallel=True, n_processes=20)\n",
    " \n",
    "    # # Set circular mask threshold\n",
    "    # experiment.set_circular_mask()\n",
    "    \n",
    "    # # Calculate mask\n",
    "    # experiment.calculate_circular_mask()\n",
    "    \n",
    "    # # Set tracking threshold\n",
    "    # experiment.set_thresholds()\n",
    "\n",
    "    # # Run tracking\n",
    "    # experiment.track(parallel=True, n_processes=20)\n",
    "    # #\n",
    "    # Run kinematics\n",
    "    experiment.kinematics(parallel=True, n_processes=20)\n",
    "\n",
    "    # Extract bouts\n",
    "    experiment.find_bouts(check_thresholds=False)"
   ]
  }
 ],
 "metadata": {
  "kernelspec": {
   "display_name": "behavior_analysis",
   "language": "python",
   "name": "python3"
  },
  "language_info": {
   "codemirror_mode": {
    "name": "ipython",
    "version": 3
   },
   "file_extension": ".py",
   "mimetype": "text/x-python",
   "name": "python",
   "nbconvert_exporter": "python",
   "pygments_lexer": "ipython3",
   "version": "3.7.6"
  }
 },
 "nbformat": 4,
 "nbformat_minor": 5
}
