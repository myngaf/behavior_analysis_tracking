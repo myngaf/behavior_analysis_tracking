{
 "cells": [
  {
   "cell_type": "markdown",
   "id": "9f16144c",
   "metadata": {},
   "source": [
    "## Bout mapping"
   ]
  },
  {
   "cell_type": "code",
   "execution_count": 1,
   "id": "7f950bbf",
   "metadata": {},
   "outputs": [],
   "source": [
    "from behavior_analysis.experiment import BehaviorExperiment\n",
    "from behavior_analysis.analysis.bouts import BoutData\n",
    "from behavior_analysis.analysis.bout_mapping import calculate_distance_matrix_templates, interpolate_nd\n",
    "from behavior_analysis.utilities.timer import Timer\n",
    "import pandas as pd\n",
    "import numpy as np\n",
    "from pathlib import Path\n",
    "import os"
   ]
  },
  {
   "cell_type": "code",
   "execution_count": null,
   "id": "32098cbe",
   "metadata": {},
   "outputs": [
    {
     "name": "stdout",
     "output_type": "stream",
     "text": [
      "Opening 681 csv files...\n",
      "############ 10%\n",
      "############ 20%\n",
      "############ 30%\n",
      "############ 40%\n",
      "############ 50%\n",
      "############ 60%\n",
      "###"
     ]
    }
   ],
   "source": [
    "if __name__ == \"__main__\":\n",
    "    # Open template bouts\n",
    "    template_directory = Path(r'J:\\Duncan Mearns\\behavior_mapping')\n",
    "    template_frame_rate = 500.\n",
    "    # Open 1744 exemplar bouts representative of all behaviors\n",
    "    exemplars_df = pd.read_csv(template_directory.joinpath('exemplars.csv'),\n",
    "                               dtype={'ID': str, 'code': str})\n",
    "    # Open tail statistics and eigenfish for bout mapping\n",
    "    eigenfish = np.load(template_directory.joinpath('eigenfish.npy'))\n",
    "    eigenfish = eigenfish[:3]  # take first three eigenfish only\n",
    "    mean, std = np.load(template_directory.joinpath('tail_statistics.npy'))\n",
    "    # Import template bouts\n",
    "    templates = BoutData.from_metadata(exemplars_df, template_directory.joinpath(\"kinematics\"))\n",
    "    # Map template bouts onto eigenfish\n",
    "    templates = templates.map(vectors=eigenfish, whiten=True, mean=mean, std=std)\n",
    "    templates = templates.to_list(values=True)\n",
    "    print(len(templates))\n",
    "    print(templates[0].shape)"
   ]
  },
  {
   "cell_type": "code",
   "execution_count": null,
   "id": "c9f1fcd5",
   "metadata": {},
   "outputs": [],
   "source": [
    "if __name__ == \"__main__\":\n",
    "    # Open experiment\n",
    "    experiment = BehaviorExperiment.open(r\"C:\\Users\\manyung.ng\\Documents\\behaviour_analysis\\behavior_analysis_tracking\\test_analysis\")\n",
    "    print(experiment)\n",
    "    # Open video and bout info\n",
    "    video_info = pd.read_csv(experiment.directory.joinpath('video_data.csv'), dtype={'ID': str, 'code': str})\n",
    "    bouts_df = pd.read_csv(experiment.subdirs[\"analysis\"].joinpath('bouts.csv'),\n",
    "                           dtype={'ID': str, 'code': str})"
   ]
  },
  {
   "cell_type": "code",
   "execution_count": null,
   "id": "53d7e9d3",
   "metadata": {},
   "outputs": [],
   "source": [
    "if __name__ == \"__main__\":\n",
    "    # Import bouts\n",
    "    bouts = BoutData.from_metadata(bouts_df, experiment.subdirs[\"kinematics\"], tail_only=True)\n",
    "    # Map bouts onto eigenfish\n",
    "    bouts = bouts.map(vectors=eigenfish, whiten=True, mean=mean, std=std)\n",
    "    # Start timer\n",
    "    timer = Timer()\n",
    "    analysis_times = []\n",
    "    timer.start()\n",
    "    # Iterate through fish\n",
    "    output_directory = experiment.subdirs[\"analysis\"].joinpath('bout_distances')\n",
    "    if not output_directory.exists():\n",
    "        output_directory.mkdir(parents=True)\n",
    "    for ID in bouts.metadata['ID'].unique():\n",
    "        # Save distance matrix for each fish to bout_distances folder in analysis directory\n",
    "        output_path = output_directory.joinpath(ID + '.npy')\n",
    "        if not output_path.exists():\n",
    "            print(ID + '...', end=' ')\n",
    "            # Interpolate bouts to correct frame rate\n",
    "            fish_bouts = []\n",
    "            for i, bout in bouts.iter(IDs=[ID], values=True):\n",
    "                code = bouts.metadata.loc[i, 'code']\n",
    "                fps = video_info[video_info['code'] == code].squeeze().fps\n",
    "                interp = interpolate_nd(bout, fps, template_frame_rate)\n",
    "                fish_bouts.append(interp)\n",
    "            # Calculate distance matrix\n",
    "            D = calculate_distance_matrix_templates(fish_bouts, templates, fs=template_frame_rate)\n",
    "            # Save distance matrix\n",
    "            np.save(output_path, D)\n",
    "            # Show time taken\n",
    "            time_taken = timer.lap()\n",
    "            analysis_times.append(time_taken)\n",
    "            print(timer.convert_time(time_taken))\n",
    "    average_time = timer.average\n",
    "    print(f'Total time: {timer.convert_time(timer.stop())}')\n",
    "    print(f'Average time: {timer.convert_time(average_time)}')"
   ]
  },
  {
   "cell_type": "code",
   "execution_count": null,
   "id": "e9aa06f4",
   "metadata": {},
   "outputs": [],
   "source": [
    "# load the calculated distances\n",
    "# only run if the previous chunk was completed and the session is restarted.\n",
    "distances_dir = Path(r\"C:\\Users\\manyung.ng\\Documents\\behaviour_analysis\\behavior_analysis_tracking\\test_analysis\\analysis\\bout_distances\")\n",
    "bouts = BoutData.from_metadata(bouts_df, experiment.subdirs[\"kinematics\"], tail_only=True)\n",
    "bouts = bouts.map(vectors=eigenfish, whiten=True, mean=mean, std=std)\n",
    "for ID in bouts.metadata['ID'].unique():\n",
    "    distances = np.load(distances_dir.joinpath(ID + '.npy'))\n",
    "    print(\"Loaded.\")"
   ]
  },
  {
   "cell_type": "code",
   "execution_count": null,
   "id": "246e1a0f",
   "metadata": {},
   "outputs": [],
   "source": [
    "# Assign exemplars\n",
    "mapped_bouts = bouts.map(eigenfish, whiten=True, mean=mean, std=std)\n",
    "mapped_bouts['exemplar'] = None\n",
    "for ID, fish_distances in distances.iteritems():\n",
    "    bout_idxs = mapped_bouts[mapped_bouts['ID'] == ID].index\n",
    "    nearest_exemplar = np.argmin(fish_distances, axis=1)\n",
    "    mapped_bouts.loc[bout_idxs, 'exemplar'] = nearest_exemplar\n",
    "mapped_bouts.to_csv(os.path.join(experiment.subdirs['analysis'], 'mapped_bouts.csv'))"
   ]
  },
  {
   "cell_type": "markdown",
   "id": "bc520f95",
   "metadata": {},
   "source": [
    "## Bout classification"
   ]
  },
  {
   "cell_type": "code",
   "execution_count": null,
   "id": "dc9be3da",
   "metadata": {},
   "outputs": [],
   "source": [
    "from behavior_analysis.experiment import BehaviorExperiment\n",
    "from behavior_analysis.analysis.bouts import BoutData\n",
    "from behavior_analysis.analysis.eye_convergence import calculate_convergence\n",
    "import pandas as pd\n",
    "from matplotlib import pyplot as plt\n",
    "from scipy.spatial.distance import squareform\n",
    "from pathlib import Path\n",
    "import numpy as np\n",
    "from behavior_analysis.analysis.bout_mapping import calculate_distance_matrix_templates, interpolate_nd\n",
    "from matplotlib import pyplot as plt"
   ]
  },
  {
   "cell_type": "code",
   "execution_count": null,
   "id": "b64a819d",
   "metadata": {},
   "outputs": [],
   "source": [
    "if __name__ == \"__main__\":\n",
    "\n",
    "    experiment = BehaviorExperiment.open(r\"C:\\Users\\manyung.ng\\Documents\\behaviour_analysis\\behavior_analysis_tracking\\test_analysis\")\n",
    "    print(experiment)\n",
    "    bouts_path = experiment.subdirs['analysis'].joinpath('bouts.csv')\n",
    "    bouts_df = pd.read_csv(bouts_path, dtype={'ID': str, 'video_code': str})\n",
    "    video_info = pd.read_csv(experiment.directory.joinpath('video_data.csv'), dtype={'ID': str, 'video_code': str})\n",
    "\n",
    "    # Average eye convergence over 20 ms\n",
    "    window = 0.02\n",
    "\n",
    "    # Import convergence data\n",
    "    fish_convergence = pd.read_csv('', dtype={'ID': str})\n",
    "    convergence_states = []\n",
    "    # Import bout data\n",
    "    bouts = BoutData.from_metadata(bouts_df, experiment.subdirs['kinematics'], tail_only=False)\n",
    "    for i, bout in bouts.iter():\n",
    "        # Bout info\n",
    "        bout_info = bouts.metadata.loc[i]\n",
    "        fps = video_info[video_info[\"code\"] == bout_info.code].squeeze().fps\n",
    "        ID = bout_info.ID\n",
    "        fish_info = fish_convergence[fish_convergence[\"ID\"] == ID].squeeze()\n",
    "        # Calculate convergence\n",
    "        bout_convergence = np.degrees(calculate_convergence(bout))\n",
    "        w = int(window * fps)\n",
    "        convergence_start = bout_convergence[:w].mean()\n",
    "        convergence_end = bout_convergence[-w:].mean()\n",
    "        convergence_states.append(np.array([convergence_start, convergence_end]) >= fish_info.threshold)\n",
    "    convergence_states = np.array(convergence_states)\n",
    "    # Find bout phases\n",
    "    spontaneous = (~convergence_states[:, 0]) & (~convergence_states[:, 1])\n",
    "    early = (~convergence_states[:, 0]) & (convergence_states[:, 1])\n",
    "    mid = (convergence_states[:, 0]) & (convergence_states[:, 1])\n",
    "    late = (convergence_states[:, 0]) & (~convergence_states[:, 1])\n",
    "    phase_labels = np.column_stack([spontaneous, early, mid, late])\n",
    "    phase_labels = np.argwhere(phase_labels)[:, 1]\n",
    "    bouts_df['phase'] = phase_labels\n",
    "    bouts_df.to_csv(experiment.subdirs[\"analysis\"].joinpath(\"bout_convergence_labels.csv\"), index=False)\n"
   ]
  },
  {
   "cell_type": "markdown",
   "id": "009a6530",
   "metadata": {},
   "source": [
    "## Behaviour analysis (Mearns et al., 2020)"
   ]
  },
  {
   "cell_type": "code",
   "execution_count": null,
   "id": "71abf5fb",
   "metadata": {},
   "outputs": [],
   "source": [
    "from pathlib import Path\n",
    "import numpy as np\n",
    "import pandas as pd\n",
    "from scipy.spatial import distance as ssd\n",
    "from matplotlib import pyplot as plt"
   ]
  },
  {
   "cell_type": "code",
   "execution_count": null,
   "id": "84ee2203",
   "metadata": {},
   "outputs": [],
   "source": [
    "plt.rcParams[\"figure.dpi\"] = 150"
   ]
  },
  {
   "cell_type": "code",
   "execution_count": null,
   "id": "47dd17b5",
   "metadata": {},
   "outputs": [],
   "source": [
    "# set data path\n",
    "data_path = Path(r\"C:\\Users\\manyung.ng\\Documents\\behaviour_analysis\\behavior_analysis_tracking\\test_analysis\")"
   ]
  },
  {
   "cell_type": "code",
   "execution_count": null,
   "id": "eb5a1922",
   "metadata": {},
   "outputs": [],
   "source": [
    "# import metadata\n",
    "md = pd.read_csv(data_path.joinpath(\"mapped_bouts.csv\"), index_col=\"bout_index\", dtype={\"ID\": str, \"video_code\": str})"
   ]
  },
  {
   "cell_type": "code",
   "execution_count": null,
   "id": "7edb54b8",
   "metadata": {},
   "outputs": [],
   "source": [
    "md"
   ]
  },
  {
   "cell_type": "code",
   "execution_count": null,
   "id": "93f4dbb4",
   "metadata": {},
   "outputs": [],
   "source": [
    "bout_md = md.loc[0]\n",
    "bout_md"
   ]
  },
  {
   "cell_type": "code",
   "execution_count": null,
   "id": "3cb6e8d8",
   "metadata": {},
   "outputs": [],
   "source": [
    "trial_path = data_path.joinpath(\"kinematics\", bout_md[\"ID\"], bout_md[\"video_code\"] + \".csv\")\n",
    "trial_kinematics = pd.read_csv(trial_path)"
   ]
  }
 ],
 "metadata": {
  "kernelspec": {
   "display_name": "behavior_analysis",
   "language": "python",
   "name": "python3"
  },
  "language_info": {
   "codemirror_mode": {
    "name": "ipython",
    "version": 3
   },
   "file_extension": ".py",
   "mimetype": "text/x-python",
   "name": "python",
   "nbconvert_exporter": "python",
   "pygments_lexer": "ipython3",
   "version": "3.7.6"
  }
 },
 "nbformat": 4,
 "nbformat_minor": 5
}
